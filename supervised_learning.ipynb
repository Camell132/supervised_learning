{
 "cells": [
  {
   "cell_type": "markdown",
   "metadata": {
    "toc": true
   },
   "source": [
    "<h1>Содержание<span class=\"tocSkip\"></span></h1>\n",
    "<div class=\"toc\"><ul class=\"toc-item\"><li><span><a href=\"#Подготовка-данных\" data-toc-modified-id=\"Подготовка-данных-1\"><span class=\"toc-item-num\">1&nbsp;&nbsp;</span>Подготовка данных</a></span><ul class=\"toc-item\"><li><span><a href=\"#Заполнение-пропусков\" data-toc-modified-id=\"Заполнение-пропусков-1.1\"><span class=\"toc-item-num\">1.1&nbsp;&nbsp;</span>Заполнение пропусков</a></span></li><li><span><a href=\"#Проверка-на-дубликаты\" data-toc-modified-id=\"Проверка-на-дубликаты-1.2\"><span class=\"toc-item-num\">1.2&nbsp;&nbsp;</span>Проверка на дубликаты</a></span></li><li><span><a href=\"#Удаление-лишних-признаков\" data-toc-modified-id=\"Удаление-лишних-признаков-1.3\"><span class=\"toc-item-num\">1.3&nbsp;&nbsp;</span>Удаление лишних признаков</a></span></li><li><span><a href=\"#Преобразование-данных-для--обучения-модели\" data-toc-modified-id=\"Преобразование-данных-для--обучения-модели-1.4\"><span class=\"toc-item-num\">1.4&nbsp;&nbsp;</span>Преобразование данных для  обучения модели</a></span></li></ul></li><li><span><a href=\"#Исследование-задачи\" data-toc-modified-id=\"Исследование-задачи-2\"><span class=\"toc-item-num\">2&nbsp;&nbsp;</span>Исследование задачи</a></span><ul class=\"toc-item\"><li><span><a href=\"#Разбиение-данных-на-выборки\" data-toc-modified-id=\"Разбиение-данных-на-выборки-2.1\"><span class=\"toc-item-num\">2.1&nbsp;&nbsp;</span>Разбиение данных на выборки</a></span></li></ul></li><li><span><a href=\"#Борьба-с-дисбалансом\" data-toc-modified-id=\"Борьба-с-дисбалансом-3\"><span class=\"toc-item-num\">3&nbsp;&nbsp;</span>Борьба с дисбалансом</a></span></li><li><span><a href=\"#Тестирование-модели\" data-toc-modified-id=\"Тестирование-модели-4\"><span class=\"toc-item-num\">4&nbsp;&nbsp;</span>Тестирование модели</a></span></li><li><span><a href=\"#Чек-лист-готовности-проекта\" data-toc-modified-id=\"Чек-лист-готовности-проекта-5\"><span class=\"toc-item-num\">5&nbsp;&nbsp;</span>Чек-лист готовности проекта</a></span></li></ul></div>"
   ]
  },
  {
   "cell_type": "markdown",
   "metadata": {},
   "source": [
    "# Отток клиентов"
   ]
  },
  {
   "cell_type": "markdown",
   "metadata": {},
   "source": [
    "Из «Бета-Банка» стали уходить клиенты. Каждый месяц. Немного, но заметно. Банковские маркетологи посчитали: сохранять текущих клиентов дешевле, чем привлекать новых.\n",
    "\n",
    "Нужно спрогнозировать, уйдёт клиент из банка в ближайшее время или нет. Вам предоставлены исторические данные о поведении клиентов и расторжении договоров с банком. \n",
    "\n",
    "Постройте модель с предельно большим значением *F1*-меры. Чтобы сдать проект успешно, нужно довести метрику до 0.59. Проверьте *F1*-меру на тестовой выборке самостоятельно.\n",
    "\n",
    "Дополнительно измеряйте *AUC-ROC*, сравнивайте её значение с *F1*-мерой.\n",
    "\n",
    "Источник данных: [https://www.kaggle.com/barelydedicated/bank-customer-churn-modeling](https://www.kaggle.com/barelydedicated/bank-customer-churn-modeling)\n",
    "\n",
    "**Цель исследования** — построение предсказательной модели по оттоку клиентов по по различным признакам с значением *F1*-меры более 0.59.\n",
    "\n",
    "**Ход исследования**\n",
    "\n",
    "Данные о клиентах находятся в файле `Churn.csv`.\n",
    "\n",
    "На этапе анализа данных необходимо будет разделить выборку на обучающую, валидационную и тестовую выборки, исследовать исследовать баланс классов, обучить модель без учета дисбаланса, а затем, учитывая дисбаланс, улучшить качество модели. Обучить разные модели и определить лучшую. Провести финальное тестирование.\n",
    " \n",
    "Таким образом, исследование пройдёт в четыре этапа:\n",
    " 1. Подготовка данных;\n",
    " 2. Исследование задачи;\n",
    " 3. Борьба с дисбалансом;\n",
    " 4. Тестирование модели."
   ]
  },
  {
   "cell_type": "markdown",
   "metadata": {},
   "source": [
    "## Подготовка данных"
   ]
  },
  {
   "cell_type": "code",
   "execution_count": 1,
   "metadata": {},
   "outputs": [],
   "source": [
    "import pandas as pd\n",
    "import numpy as np\n",
    "from sklearn.tree import DecisionTreeClassifier\n",
    "from sklearn.ensemble import RandomForestClassifier\n",
    "from sklearn.linear_model import LogisticRegression\n",
    "from sklearn.metrics import accuracy_score\n",
    "from sklearn.model_selection import train_test_split\n",
    "from sklearn.preprocessing import StandardScaler\n",
    "from sklearn.dummy import DummyClassifier\n",
    "\n",
    "from sklearn.metrics import f1_score\n",
    "from sklearn.metrics import roc_auc_score\n",
    "from sklearn.metrics import recall_score\n",
    "from sklearn.metrics import precision_score\n",
    "from sklearn.utils import shuffle\n",
    "import warnings\n",
    "\n",
    "warnings.filterwarnings('ignore')"
   ]
  },
  {
   "cell_type": "code",
   "execution_count": 2,
   "metadata": {},
   "outputs": [
    {
     "data": {
      "text/html": [
       "<div>\n",
       "<style scoped>\n",
       "    .dataframe tbody tr th:only-of-type {\n",
       "        vertical-align: middle;\n",
       "    }\n",
       "\n",
       "    .dataframe tbody tr th {\n",
       "        vertical-align: top;\n",
       "    }\n",
       "\n",
       "    .dataframe thead th {\n",
       "        text-align: right;\n",
       "    }\n",
       "</style>\n",
       "<table border=\"1\" class=\"dataframe\">\n",
       "  <thead>\n",
       "    <tr style=\"text-align: right;\">\n",
       "      <th></th>\n",
       "      <th>RowNumber</th>\n",
       "      <th>CustomerId</th>\n",
       "      <th>Surname</th>\n",
       "      <th>CreditScore</th>\n",
       "      <th>Geography</th>\n",
       "      <th>Gender</th>\n",
       "      <th>Age</th>\n",
       "      <th>Tenure</th>\n",
       "      <th>Balance</th>\n",
       "      <th>NumOfProducts</th>\n",
       "      <th>HasCrCard</th>\n",
       "      <th>IsActiveMember</th>\n",
       "      <th>EstimatedSalary</th>\n",
       "      <th>Exited</th>\n",
       "    </tr>\n",
       "  </thead>\n",
       "  <tbody>\n",
       "    <tr>\n",
       "      <th>0</th>\n",
       "      <td>1</td>\n",
       "      <td>15634602</td>\n",
       "      <td>Hargrave</td>\n",
       "      <td>619</td>\n",
       "      <td>France</td>\n",
       "      <td>Female</td>\n",
       "      <td>42</td>\n",
       "      <td>2.0</td>\n",
       "      <td>0.00</td>\n",
       "      <td>1</td>\n",
       "      <td>1</td>\n",
       "      <td>1</td>\n",
       "      <td>101348.88</td>\n",
       "      <td>1</td>\n",
       "    </tr>\n",
       "    <tr>\n",
       "      <th>1</th>\n",
       "      <td>2</td>\n",
       "      <td>15647311</td>\n",
       "      <td>Hill</td>\n",
       "      <td>608</td>\n",
       "      <td>Spain</td>\n",
       "      <td>Female</td>\n",
       "      <td>41</td>\n",
       "      <td>1.0</td>\n",
       "      <td>83807.86</td>\n",
       "      <td>1</td>\n",
       "      <td>0</td>\n",
       "      <td>1</td>\n",
       "      <td>112542.58</td>\n",
       "      <td>0</td>\n",
       "    </tr>\n",
       "    <tr>\n",
       "      <th>2</th>\n",
       "      <td>3</td>\n",
       "      <td>15619304</td>\n",
       "      <td>Onio</td>\n",
       "      <td>502</td>\n",
       "      <td>France</td>\n",
       "      <td>Female</td>\n",
       "      <td>42</td>\n",
       "      <td>8.0</td>\n",
       "      <td>159660.80</td>\n",
       "      <td>3</td>\n",
       "      <td>1</td>\n",
       "      <td>0</td>\n",
       "      <td>113931.57</td>\n",
       "      <td>1</td>\n",
       "    </tr>\n",
       "    <tr>\n",
       "      <th>3</th>\n",
       "      <td>4</td>\n",
       "      <td>15701354</td>\n",
       "      <td>Boni</td>\n",
       "      <td>699</td>\n",
       "      <td>France</td>\n",
       "      <td>Female</td>\n",
       "      <td>39</td>\n",
       "      <td>1.0</td>\n",
       "      <td>0.00</td>\n",
       "      <td>2</td>\n",
       "      <td>0</td>\n",
       "      <td>0</td>\n",
       "      <td>93826.63</td>\n",
       "      <td>0</td>\n",
       "    </tr>\n",
       "    <tr>\n",
       "      <th>4</th>\n",
       "      <td>5</td>\n",
       "      <td>15737888</td>\n",
       "      <td>Mitchell</td>\n",
       "      <td>850</td>\n",
       "      <td>Spain</td>\n",
       "      <td>Female</td>\n",
       "      <td>43</td>\n",
       "      <td>2.0</td>\n",
       "      <td>125510.82</td>\n",
       "      <td>1</td>\n",
       "      <td>1</td>\n",
       "      <td>1</td>\n",
       "      <td>79084.10</td>\n",
       "      <td>0</td>\n",
       "    </tr>\n",
       "    <tr>\n",
       "      <th>5</th>\n",
       "      <td>6</td>\n",
       "      <td>15574012</td>\n",
       "      <td>Chu</td>\n",
       "      <td>645</td>\n",
       "      <td>Spain</td>\n",
       "      <td>Male</td>\n",
       "      <td>44</td>\n",
       "      <td>8.0</td>\n",
       "      <td>113755.78</td>\n",
       "      <td>2</td>\n",
       "      <td>1</td>\n",
       "      <td>0</td>\n",
       "      <td>149756.71</td>\n",
       "      <td>1</td>\n",
       "    </tr>\n",
       "    <tr>\n",
       "      <th>6</th>\n",
       "      <td>7</td>\n",
       "      <td>15592531</td>\n",
       "      <td>Bartlett</td>\n",
       "      <td>822</td>\n",
       "      <td>France</td>\n",
       "      <td>Male</td>\n",
       "      <td>50</td>\n",
       "      <td>7.0</td>\n",
       "      <td>0.00</td>\n",
       "      <td>2</td>\n",
       "      <td>1</td>\n",
       "      <td>1</td>\n",
       "      <td>10062.80</td>\n",
       "      <td>0</td>\n",
       "    </tr>\n",
       "    <tr>\n",
       "      <th>7</th>\n",
       "      <td>8</td>\n",
       "      <td>15656148</td>\n",
       "      <td>Obinna</td>\n",
       "      <td>376</td>\n",
       "      <td>Germany</td>\n",
       "      <td>Female</td>\n",
       "      <td>29</td>\n",
       "      <td>4.0</td>\n",
       "      <td>115046.74</td>\n",
       "      <td>4</td>\n",
       "      <td>1</td>\n",
       "      <td>0</td>\n",
       "      <td>119346.88</td>\n",
       "      <td>1</td>\n",
       "    </tr>\n",
       "    <tr>\n",
       "      <th>8</th>\n",
       "      <td>9</td>\n",
       "      <td>15792365</td>\n",
       "      <td>He</td>\n",
       "      <td>501</td>\n",
       "      <td>France</td>\n",
       "      <td>Male</td>\n",
       "      <td>44</td>\n",
       "      <td>4.0</td>\n",
       "      <td>142051.07</td>\n",
       "      <td>2</td>\n",
       "      <td>0</td>\n",
       "      <td>1</td>\n",
       "      <td>74940.50</td>\n",
       "      <td>0</td>\n",
       "    </tr>\n",
       "    <tr>\n",
       "      <th>9</th>\n",
       "      <td>10</td>\n",
       "      <td>15592389</td>\n",
       "      <td>H?</td>\n",
       "      <td>684</td>\n",
       "      <td>France</td>\n",
       "      <td>Male</td>\n",
       "      <td>27</td>\n",
       "      <td>2.0</td>\n",
       "      <td>134603.88</td>\n",
       "      <td>1</td>\n",
       "      <td>1</td>\n",
       "      <td>1</td>\n",
       "      <td>71725.73</td>\n",
       "      <td>0</td>\n",
       "    </tr>\n",
       "  </tbody>\n",
       "</table>\n",
       "</div>"
      ],
      "text/plain": [
       "   RowNumber  CustomerId   Surname  CreditScore Geography  Gender  Age  \\\n",
       "0          1    15634602  Hargrave          619    France  Female   42   \n",
       "1          2    15647311      Hill          608     Spain  Female   41   \n",
       "2          3    15619304      Onio          502    France  Female   42   \n",
       "3          4    15701354      Boni          699    France  Female   39   \n",
       "4          5    15737888  Mitchell          850     Spain  Female   43   \n",
       "5          6    15574012       Chu          645     Spain    Male   44   \n",
       "6          7    15592531  Bartlett          822    France    Male   50   \n",
       "7          8    15656148    Obinna          376   Germany  Female   29   \n",
       "8          9    15792365        He          501    France    Male   44   \n",
       "9         10    15592389        H?          684    France    Male   27   \n",
       "\n",
       "   Tenure    Balance  NumOfProducts  HasCrCard  IsActiveMember  \\\n",
       "0     2.0       0.00              1          1               1   \n",
       "1     1.0   83807.86              1          0               1   \n",
       "2     8.0  159660.80              3          1               0   \n",
       "3     1.0       0.00              2          0               0   \n",
       "4     2.0  125510.82              1          1               1   \n",
       "5     8.0  113755.78              2          1               0   \n",
       "6     7.0       0.00              2          1               1   \n",
       "7     4.0  115046.74              4          1               0   \n",
       "8     4.0  142051.07              2          0               1   \n",
       "9     2.0  134603.88              1          1               1   \n",
       "\n",
       "   EstimatedSalary  Exited  \n",
       "0        101348.88       1  \n",
       "1        112542.58       0  \n",
       "2        113931.57       1  \n",
       "3         93826.63       0  \n",
       "4         79084.10       0  \n",
       "5        149756.71       1  \n",
       "6         10062.80       0  \n",
       "7        119346.88       1  \n",
       "8         74940.50       0  \n",
       "9         71725.73       0  "
      ]
     },
     "metadata": {},
     "output_type": "display_data"
    },
    {
     "name": "stdout",
     "output_type": "stream",
     "text": [
      "<class 'pandas.core.frame.DataFrame'>\n",
      "RangeIndex: 10000 entries, 0 to 9999\n",
      "Data columns (total 14 columns):\n",
      "RowNumber          10000 non-null int64\n",
      "CustomerId         10000 non-null int64\n",
      "Surname            10000 non-null object\n",
      "CreditScore        10000 non-null int64\n",
      "Geography          10000 non-null object\n",
      "Gender             10000 non-null object\n",
      "Age                10000 non-null int64\n",
      "Tenure             9091 non-null float64\n",
      "Balance            10000 non-null float64\n",
      "NumOfProducts      10000 non-null int64\n",
      "HasCrCard          10000 non-null int64\n",
      "IsActiveMember     10000 non-null int64\n",
      "EstimatedSalary    10000 non-null float64\n",
      "Exited             10000 non-null int64\n",
      "dtypes: float64(3), int64(8), object(3)\n",
      "memory usage: 1.1+ MB\n"
     ]
    },
    {
     "data": {
      "text/plain": [
       "None"
      ]
     },
     "metadata": {},
     "output_type": "display_data"
    },
    {
     "data": {
      "text/html": [
       "<div>\n",
       "<style scoped>\n",
       "    .dataframe tbody tr th:only-of-type {\n",
       "        vertical-align: middle;\n",
       "    }\n",
       "\n",
       "    .dataframe tbody tr th {\n",
       "        vertical-align: top;\n",
       "    }\n",
       "\n",
       "    .dataframe thead th {\n",
       "        text-align: right;\n",
       "    }\n",
       "</style>\n",
       "<table border=\"1\" class=\"dataframe\">\n",
       "  <thead>\n",
       "    <tr style=\"text-align: right;\">\n",
       "      <th></th>\n",
       "      <th>RowNumber</th>\n",
       "      <th>CustomerId</th>\n",
       "      <th>CreditScore</th>\n",
       "      <th>Age</th>\n",
       "      <th>Tenure</th>\n",
       "      <th>Balance</th>\n",
       "      <th>NumOfProducts</th>\n",
       "      <th>HasCrCard</th>\n",
       "      <th>IsActiveMember</th>\n",
       "      <th>EstimatedSalary</th>\n",
       "      <th>Exited</th>\n",
       "    </tr>\n",
       "  </thead>\n",
       "  <tbody>\n",
       "    <tr>\n",
       "      <th>count</th>\n",
       "      <td>10000.00000</td>\n",
       "      <td>1.000000e+04</td>\n",
       "      <td>10000.000000</td>\n",
       "      <td>10000.000000</td>\n",
       "      <td>9091.000000</td>\n",
       "      <td>10000.000000</td>\n",
       "      <td>10000.000000</td>\n",
       "      <td>10000.00000</td>\n",
       "      <td>10000.000000</td>\n",
       "      <td>10000.000000</td>\n",
       "      <td>10000.000000</td>\n",
       "    </tr>\n",
       "    <tr>\n",
       "      <th>mean</th>\n",
       "      <td>5000.50000</td>\n",
       "      <td>1.569094e+07</td>\n",
       "      <td>650.528800</td>\n",
       "      <td>38.921800</td>\n",
       "      <td>4.997690</td>\n",
       "      <td>76485.889288</td>\n",
       "      <td>1.530200</td>\n",
       "      <td>0.70550</td>\n",
       "      <td>0.515100</td>\n",
       "      <td>100090.239881</td>\n",
       "      <td>0.203700</td>\n",
       "    </tr>\n",
       "    <tr>\n",
       "      <th>std</th>\n",
       "      <td>2886.89568</td>\n",
       "      <td>7.193619e+04</td>\n",
       "      <td>96.653299</td>\n",
       "      <td>10.487806</td>\n",
       "      <td>2.894723</td>\n",
       "      <td>62397.405202</td>\n",
       "      <td>0.581654</td>\n",
       "      <td>0.45584</td>\n",
       "      <td>0.499797</td>\n",
       "      <td>57510.492818</td>\n",
       "      <td>0.402769</td>\n",
       "    </tr>\n",
       "    <tr>\n",
       "      <th>min</th>\n",
       "      <td>1.00000</td>\n",
       "      <td>1.556570e+07</td>\n",
       "      <td>350.000000</td>\n",
       "      <td>18.000000</td>\n",
       "      <td>0.000000</td>\n",
       "      <td>0.000000</td>\n",
       "      <td>1.000000</td>\n",
       "      <td>0.00000</td>\n",
       "      <td>0.000000</td>\n",
       "      <td>11.580000</td>\n",
       "      <td>0.000000</td>\n",
       "    </tr>\n",
       "    <tr>\n",
       "      <th>25%</th>\n",
       "      <td>2500.75000</td>\n",
       "      <td>1.562853e+07</td>\n",
       "      <td>584.000000</td>\n",
       "      <td>32.000000</td>\n",
       "      <td>2.000000</td>\n",
       "      <td>0.000000</td>\n",
       "      <td>1.000000</td>\n",
       "      <td>0.00000</td>\n",
       "      <td>0.000000</td>\n",
       "      <td>51002.110000</td>\n",
       "      <td>0.000000</td>\n",
       "    </tr>\n",
       "    <tr>\n",
       "      <th>50%</th>\n",
       "      <td>5000.50000</td>\n",
       "      <td>1.569074e+07</td>\n",
       "      <td>652.000000</td>\n",
       "      <td>37.000000</td>\n",
       "      <td>5.000000</td>\n",
       "      <td>97198.540000</td>\n",
       "      <td>1.000000</td>\n",
       "      <td>1.00000</td>\n",
       "      <td>1.000000</td>\n",
       "      <td>100193.915000</td>\n",
       "      <td>0.000000</td>\n",
       "    </tr>\n",
       "    <tr>\n",
       "      <th>75%</th>\n",
       "      <td>7500.25000</td>\n",
       "      <td>1.575323e+07</td>\n",
       "      <td>718.000000</td>\n",
       "      <td>44.000000</td>\n",
       "      <td>7.000000</td>\n",
       "      <td>127644.240000</td>\n",
       "      <td>2.000000</td>\n",
       "      <td>1.00000</td>\n",
       "      <td>1.000000</td>\n",
       "      <td>149388.247500</td>\n",
       "      <td>0.000000</td>\n",
       "    </tr>\n",
       "    <tr>\n",
       "      <th>max</th>\n",
       "      <td>10000.00000</td>\n",
       "      <td>1.581569e+07</td>\n",
       "      <td>850.000000</td>\n",
       "      <td>92.000000</td>\n",
       "      <td>10.000000</td>\n",
       "      <td>250898.090000</td>\n",
       "      <td>4.000000</td>\n",
       "      <td>1.00000</td>\n",
       "      <td>1.000000</td>\n",
       "      <td>199992.480000</td>\n",
       "      <td>1.000000</td>\n",
       "    </tr>\n",
       "  </tbody>\n",
       "</table>\n",
       "</div>"
      ],
      "text/plain": [
       "         RowNumber    CustomerId   CreditScore           Age       Tenure  \\\n",
       "count  10000.00000  1.000000e+04  10000.000000  10000.000000  9091.000000   \n",
       "mean    5000.50000  1.569094e+07    650.528800     38.921800     4.997690   \n",
       "std     2886.89568  7.193619e+04     96.653299     10.487806     2.894723   \n",
       "min        1.00000  1.556570e+07    350.000000     18.000000     0.000000   \n",
       "25%     2500.75000  1.562853e+07    584.000000     32.000000     2.000000   \n",
       "50%     5000.50000  1.569074e+07    652.000000     37.000000     5.000000   \n",
       "75%     7500.25000  1.575323e+07    718.000000     44.000000     7.000000   \n",
       "max    10000.00000  1.581569e+07    850.000000     92.000000    10.000000   \n",
       "\n",
       "             Balance  NumOfProducts    HasCrCard  IsActiveMember  \\\n",
       "count   10000.000000   10000.000000  10000.00000    10000.000000   \n",
       "mean    76485.889288       1.530200      0.70550        0.515100   \n",
       "std     62397.405202       0.581654      0.45584        0.499797   \n",
       "min         0.000000       1.000000      0.00000        0.000000   \n",
       "25%         0.000000       1.000000      0.00000        0.000000   \n",
       "50%     97198.540000       1.000000      1.00000        1.000000   \n",
       "75%    127644.240000       2.000000      1.00000        1.000000   \n",
       "max    250898.090000       4.000000      1.00000        1.000000   \n",
       "\n",
       "       EstimatedSalary        Exited  \n",
       "count     10000.000000  10000.000000  \n",
       "mean     100090.239881      0.203700  \n",
       "std       57510.492818      0.402769  \n",
       "min          11.580000      0.000000  \n",
       "25%       51002.110000      0.000000  \n",
       "50%      100193.915000      0.000000  \n",
       "75%      149388.247500      0.000000  \n",
       "max      199992.480000      1.000000  "
      ]
     },
     "metadata": {},
     "output_type": "display_data"
    }
   ],
   "source": [
    "clients = pd.read_csv('Churn.csv')\n",
    "display(clients.head(10))\n",
    "display(clients.info())\n",
    "display(clients.describe())"
   ]
  },
  {
   "cell_type": "markdown",
   "metadata": {},
   "source": [
    "Таблица **clients**:\n",
    "\n",
    "**Признаки**\n",
    "* `RowNumber` — индекс строки в данных\n",
    "* `CustomerId` — уникальный идентификатор клиента\n",
    "* `Surname` — фамилия\n",
    "* `CreditScore` — кредитный рейтинг\n",
    "* `Geography` — страна проживания\n",
    "* `Gender` — пол\n",
    "* `Age` — возраст\n",
    "* `Tenure` — сколько лет человек является клиентом банка\n",
    "* `Balance` — баланс на счёте\n",
    "* `NumOfProducts` — количество продуктов банка, используемых клиентом\n",
    "* `HasCrCard` — наличие кредитной карты\n",
    "* `IsActiveMember` — активность клиента\n",
    "* `EstimatedSalary` — предполагаемая зарплата\n",
    "\n",
    "**Целевой признак**\n",
    "* `Exited` — факт ухода клиента"
   ]
  },
  {
   "cell_type": "markdown",
   "metadata": {},
   "source": [
    "### Заполнение пропусков"
   ]
  },
  {
   "cell_type": "markdown",
   "metadata": {},
   "source": [
    "В результате обзора данных обнаружены пропуски в признаке `Tenure`."
   ]
  },
  {
   "cell_type": "code",
   "execution_count": 3,
   "metadata": {},
   "outputs": [
    {
     "data": {
      "text/plain": [
       "1.0     952\n",
       "2.0     950\n",
       "8.0     933\n",
       "3.0     928\n",
       "5.0     927\n",
       "7.0     925\n",
       "4.0     885\n",
       "9.0     882\n",
       "6.0     881\n",
       "10.0    446\n",
       "0.0     382\n",
       "Name: Tenure, dtype: int64"
      ]
     },
     "execution_count": 3,
     "metadata": {},
     "output_type": "execute_result"
    }
   ],
   "source": [
    "clients['Tenure'].value_counts()"
   ]
  },
  {
   "cell_type": "markdown",
   "metadata": {},
   "source": [
    "Этот признак можно было бы заполнить медианным значением, нулём или просто удалить строки с пропусками, так как их сравнительно немного (около 9-10%). Рассматривая распределение клинтов по годам, можно заметить аномально маленькое количество свежих клиентов (0 лет), хотя логика подсказывает, что таких должно быть довольно много. На основе предположения, что пропуски связаны с новыми клиентами, заполним пропуски нулём"
   ]
  },
  {
   "cell_type": "code",
   "execution_count": 4,
   "metadata": {},
   "outputs": [],
   "source": [
    "clients = clients.fillna(0)"
   ]
  },
  {
   "cell_type": "code",
   "execution_count": 5,
   "metadata": {
    "scrolled": true
   },
   "outputs": [
    {
     "name": "stdout",
     "output_type": "stream",
     "text": [
      "<class 'pandas.core.frame.DataFrame'>\n",
      "RangeIndex: 10000 entries, 0 to 9999\n",
      "Data columns (total 14 columns):\n",
      "RowNumber          10000 non-null int64\n",
      "CustomerId         10000 non-null int64\n",
      "Surname            10000 non-null object\n",
      "CreditScore        10000 non-null int64\n",
      "Geography          10000 non-null object\n",
      "Gender             10000 non-null object\n",
      "Age                10000 non-null int64\n",
      "Tenure             10000 non-null float64\n",
      "Balance            10000 non-null float64\n",
      "NumOfProducts      10000 non-null int64\n",
      "HasCrCard          10000 non-null int64\n",
      "IsActiveMember     10000 non-null int64\n",
      "EstimatedSalary    10000 non-null float64\n",
      "Exited             10000 non-null int64\n",
      "dtypes: float64(3), int64(8), object(3)\n",
      "memory usage: 1.1+ MB\n"
     ]
    },
    {
     "data": {
      "text/plain": [
       "None"
      ]
     },
     "metadata": {},
     "output_type": "display_data"
    }
   ],
   "source": [
    "display(clients.info())"
   ]
  },
  {
   "cell_type": "markdown",
   "metadata": {},
   "source": [
    "### Проверка на дубликаты"
   ]
  },
  {
   "cell_type": "markdown",
   "metadata": {},
   "source": [
    "Проведём проверку на дубликаты по `CustomerId`"
   ]
  },
  {
   "cell_type": "code",
   "execution_count": 6,
   "metadata": {},
   "outputs": [
    {
     "data": {
      "text/plain": [
       "0"
      ]
     },
     "execution_count": 6,
     "metadata": {},
     "output_type": "execute_result"
    }
   ],
   "source": [
    "clients['CustomerId'].duplicated().sum()"
   ]
  },
  {
   "cell_type": "markdown",
   "metadata": {},
   "source": [
    "Дубликатов по id необнаружено."
   ]
  },
  {
   "cell_type": "markdown",
   "metadata": {},
   "source": [
    "### Удаление лишних признаков"
   ]
  },
  {
   "cell_type": "markdown",
   "metadata": {},
   "source": [
    "В результате обзора данных сразу видны признаки, которые можно отбросить, как явно не влияющие на целевой признак. Это признаки `RowNumber`, `CustomerId` и `Surname`."
   ]
  },
  {
   "cell_type": "code",
   "execution_count": 7,
   "metadata": {},
   "outputs": [],
   "source": [
    "clients = clients.drop(['RowNumber', 'CustomerId', 'Surname'], axis = 1)"
   ]
  },
  {
   "cell_type": "markdown",
   "metadata": {},
   "source": [
    "### Преобразование данных для  обучения модели"
   ]
  },
  {
   "cell_type": "markdown",
   "metadata": {},
   "source": [
    "Кроме того нужно провести прямое кодирование для категориальных признаков (`Geography`, `Gender`) и масштабирование для количественных (`CreditScore`, `Age`, `Balance`, `EstimatedSalary`). Масштабирование проведём уже после разбиения данных на выборки."
   ]
  },
  {
   "cell_type": "code",
   "execution_count": 8,
   "metadata": {},
   "outputs": [],
   "source": [
    "clients = pd.get_dummies(clients, columns = ['Geography', 'Gender'], drop_first = True)"
   ]
  },
  {
   "cell_type": "markdown",
   "metadata": {},
   "source": [
    "**Вывод**\n",
    "\n",
    "Произведён обзор данных, заполнены пропуски. Данные проверены на дубликаты. Отброшены лишние для нашего исследования признаки и проведено прямое кодирование для категориальных признаков."
   ]
  },
  {
   "cell_type": "markdown",
   "metadata": {},
   "source": [
    "## Исследование задачи"
   ]
  },
  {
   "cell_type": "markdown",
   "metadata": {},
   "source": [
    "### Разбиение данных на выборки"
   ]
  },
  {
   "cell_type": "markdown",
   "metadata": {},
   "source": [
    "Дважды применим функцию train_test_split, чтобы получить тренировочную, валидационную и тестовую выборку в соотношении 0.6:0.2:0.2"
   ]
  },
  {
   "cell_type": "code",
   "execution_count": 9,
   "metadata": {
    "scrolled": false
   },
   "outputs": [
    {
     "name": "stdout",
     "output_type": "stream",
     "text": [
      "Величина тренировочной выборки: 6000\n",
      "Величина валидационной выборки: 2000\n",
      "Величина тестовой выборки: 2000\n"
     ]
    }
   ],
   "source": [
    "clients_train, clients_q = train_test_split(clients, test_size=0.4, random_state=8)\n",
    "clients_valid, clients_test = train_test_split(clients_q, test_size=0.5, random_state=8)\n",
    "print('Величина тренировочной выборки:', clients_train.shape[0])\n",
    "print('Величина валидационной выборки:', clients_valid.shape[0])\n",
    "print('Величина тестовой выборки:', clients_test.shape[0])"
   ]
  },
  {
   "cell_type": "markdown",
   "metadata": {},
   "source": [
    "Разделим данные на признаки и целевые признаки"
   ]
  },
  {
   "cell_type": "code",
   "execution_count": 10,
   "metadata": {},
   "outputs": [],
   "source": [
    "train_features = clients_train.drop('Exited', axis = 1)\n",
    "train_target = clients_train['Exited']\n",
    "\n",
    "valid_features = clients_valid.drop('Exited', axis = 1)\n",
    "valid_target = clients_valid['Exited']\n",
    "\n",
    "test_features = clients_test.drop('Exited', axis = 1)\n",
    "test_target = clients_test['Exited']"
   ]
  },
  {
   "cell_type": "markdown",
   "metadata": {},
   "source": [
    "Проведём масштабирование количественных признаков"
   ]
  },
  {
   "cell_type": "code",
   "execution_count": 11,
   "metadata": {},
   "outputs": [],
   "source": [
    "numeric = ['CreditScore', 'Age', 'Balance', 'EstimatedSalary']\n",
    "scaler = StandardScaler()\n",
    "scaler.fit(train_features[numeric])\n",
    "\n",
    "train_features[numeric] = scaler.transform(train_features[numeric])\n",
    "valid_features[numeric] = scaler.transform(valid_features[numeric])\n",
    "test_features[numeric] = scaler.transform(test_features[numeric]);"
   ]
  },
  {
   "cell_type": "markdown",
   "metadata": {},
   "source": [
    "Рассмотрим баланс классов"
   ]
  },
  {
   "cell_type": "code",
   "execution_count": 12,
   "metadata": {},
   "outputs": [
    {
     "name": "stdout",
     "output_type": "stream",
     "text": [
      "0    4765\n",
      "1    1235\n",
      "Name: Exited, dtype: int64\n"
     ]
    }
   ],
   "source": [
    "print(train_target.value_counts())"
   ]
  },
  {
   "cell_type": "markdown",
   "metadata": {},
   "source": [
    "Классы несбалансированы. Сначала обучим модели без учета дисбаланса."
   ]
  },
  {
   "cell_type": "markdown",
   "metadata": {},
   "source": [
    "Напишем функцию, которая будет создавать сводные таблицы с метриками для разных моделей."
   ]
  },
  {
   "cell_type": "code",
   "execution_count": 13,
   "metadata": {},
   "outputs": [],
   "source": [
    "def model_metrics(model, rec):\n",
    "    if rec == 'test':\n",
    "        probabilities = model.predict_proba(test_features)[:,1]\n",
    "        prediction = model.predict(test_features)\n",
    "        d = {'Accuracy': [model.score(test_features, test_target)],\n",
    "                 'Precision': [precision_score(test_target, prediction)],\n",
    "                 'Recall': [recall_score(test_target, prediction)],\n",
    "                 'F1': [f1_score(test_target, prediction)],\n",
    "                 'AUC_ROC': [roc_auc_score(test_target, probabilities)]}\n",
    "        return pd.DataFrame(data = d)\n",
    "    elif rec == 'valid':\n",
    "        probabilities = model.predict_proba(valid_features)[:,1]\n",
    "        prediction = model.predict(valid_features)\n",
    "        d = {'Accuracy': [model.score(valid_features, valid_target)],\n",
    "                 'Precision': [precision_score(valid_target, prediction)],\n",
    "                 'Recall': [recall_score(valid_target, prediction)],\n",
    "                 'F1': [f1_score(valid_target, prediction)],\n",
    "                 'AUC_ROC': [roc_auc_score(valid_target, probabilities)]}\n",
    "        return pd.DataFrame(data = d)"
   ]
  },
  {
   "cell_type": "markdown",
   "metadata": {},
   "source": [
    "Опредилим гиперпараметры для методов решающего дерева и случайного леса без учета дисбаланса классов"
   ]
  },
  {
   "cell_type": "code",
   "execution_count": 14,
   "metadata": {},
   "outputs": [
    {
     "name": "stdout",
     "output_type": "stream",
     "text": [
      "Максимальное значение f1 для модели DecisionTree на валидационной выборке без учета дисбаланса классов = 0.5342465753424658 с max_depth = 10\n"
     ]
    }
   ],
   "source": [
    "best_f1 = 0\n",
    "best_max_depth = 0\n",
    "for i in range(1, 51):\n",
    "    d_tree_model = DecisionTreeClassifier(max_depth = i, random_state = 8)\n",
    "    d_tree_model.fit(train_features, train_target)\n",
    "    prediction_valid = d_tree_model.predict(valid_features)\n",
    "    f1 = f1_score(valid_target, prediction_valid)\n",
    "    if f1 > best_f1:\n",
    "        best_f1 = f1\n",
    "        best_max_depth = i\n",
    "print(f'Максимальное значение f1 для модели DecisionTree на валидационной выборке без учета дисбаланса классов = {best_f1} с max_depth = {best_max_depth}')"
   ]
  },
  {
   "cell_type": "code",
   "execution_count": 15,
   "metadata": {},
   "outputs": [
    {
     "name": "stdout",
     "output_type": "stream",
     "text": [
      "Максимальное значение f1 для модели RandomForest на валидационной выборке без учета дисбаланса классов = 0.5816485225505444 с max_depth = 14 и n_estimators = 28\n"
     ]
    }
   ],
   "source": [
    "best_est = 0\n",
    "best_depth = 0\n",
    "best_f1 = 0\n",
    "for est in range(1, 51):\n",
    "    for depth in range (1, 15):\n",
    "        R_forest_model = RandomForestClassifier(max_depth = depth, n_estimators = est, random_state = 8)\n",
    "        R_forest_model.fit(train_features, train_target)\n",
    "        predictions_valid = R_forest_model.predict(valid_features)\n",
    "        f1 = f1_score(valid_target, predictions_valid)\n",
    "        if f1 > best_f1:\n",
    "            best_f1 = f1\n",
    "            best_est = est\n",
    "            best_depth = depth\n",
    "print(f'Максимальное значение f1 для модели RandomForest на валидационной выборке без учета дисбаланса классов = {best_f1} с max_depth = {best_depth} и n_estimators = {best_est}')"
   ]
  },
  {
   "cell_type": "markdown",
   "metadata": {},
   "source": [
    "Обучим модели без учета дисбаланса классов"
   ]
  },
  {
   "cell_type": "code",
   "execution_count": 16,
   "metadata": {},
   "outputs": [
    {
     "data": {
      "text/html": [
       "<div>\n",
       "<style scoped>\n",
       "    .dataframe tbody tr th:only-of-type {\n",
       "        vertical-align: middle;\n",
       "    }\n",
       "\n",
       "    .dataframe tbody tr th {\n",
       "        vertical-align: top;\n",
       "    }\n",
       "\n",
       "    .dataframe thead th {\n",
       "        text-align: right;\n",
       "    }\n",
       "</style>\n",
       "<table border=\"1\" class=\"dataframe\">\n",
       "  <thead>\n",
       "    <tr style=\"text-align: right;\">\n",
       "      <th></th>\n",
       "      <th>Accuracy</th>\n",
       "      <th>Precision</th>\n",
       "      <th>Recall</th>\n",
       "      <th>F1</th>\n",
       "      <th>AUC_ROC</th>\n",
       "      <th>balance_method</th>\n",
       "      <th>name</th>\n",
       "    </tr>\n",
       "  </thead>\n",
       "  <tbody>\n",
       "    <tr>\n",
       "      <th>0</th>\n",
       "      <td>0.8300</td>\n",
       "      <td>0.578635</td>\n",
       "      <td>0.496183</td>\n",
       "      <td>0.534247</td>\n",
       "      <td>0.753944</td>\n",
       "      <td>disbalanced</td>\n",
       "      <td>decision tree</td>\n",
       "    </tr>\n",
       "    <tr>\n",
       "      <th>0</th>\n",
       "      <td>0.8655</td>\n",
       "      <td>0.748000</td>\n",
       "      <td>0.475827</td>\n",
       "      <td>0.581649</td>\n",
       "      <td>0.831840</td>\n",
       "      <td>disbalanced</td>\n",
       "      <td>random forest</td>\n",
       "    </tr>\n",
       "  </tbody>\n",
       "</table>\n",
       "</div>"
      ],
      "text/plain": [
       "   Accuracy  Precision    Recall        F1   AUC_ROC balance_method  \\\n",
       "0    0.8300   0.578635  0.496183  0.534247  0.753944    disbalanced   \n",
       "0    0.8655   0.748000  0.475827  0.581649  0.831840    disbalanced   \n",
       "\n",
       "            name  \n",
       "0  decision tree  \n",
       "0  random forest  "
      ]
     },
     "execution_count": 16,
     "metadata": {},
     "output_type": "execute_result"
    }
   ],
   "source": [
    "tree_model = DecisionTreeClassifier(random_state = 8, max_depth = 10)\n",
    "tree_model.fit(train_features, train_target)\n",
    "\n",
    "forest_model = RandomForestClassifier(random_state = 8, n_estimators = 28, max_depth = 14)\n",
    "forest_model.fit(train_features, train_target)\n",
    "\n",
    "metrics_dtc_d = model_metrics(tree_model, 'valid')\n",
    "metrics_dtc_d['balance_method'] = 'disbalanced'\n",
    "metrics_dtc_d['name'] = 'decision tree'\n",
    "\n",
    "metrics_rfc_d = model_metrics(forest_model, 'valid')\n",
    "metrics_rfc_d['balance_method'] = 'disbalanced'\n",
    "metrics_rfc_d['name'] = 'random forest'\n",
    "\n",
    "dis_metrics = pd.concat([metrics_dtc_d, metrics_rfc_d])\n",
    "dis_metrics"
   ]
  },
  {
   "cell_type": "markdown",
   "metadata": {},
   "source": [
    "**Вывод**\n",
    "\n",
    "Были обучены разные модели без учёта дисбаланса классов. \n",
    "В тренировочной выборке виден явный дисбаланс в сторону 0. Частоты появления 0 и 1 относятся как 4:1.\n",
    "Даже не учитывая дисбаланс классов была получена модель с довольно высоким значением f1, которая практически удовлетворяет задаче. Это модель случайного леса. Для неё f1 = 0.582 и auc_roc = 0.832.\n",
    "На втором месте модель решающего дерева с f1 = 0.534 и auc_roc = 0.754.\n",
    "Хуже всего справляется модель логистической регрессии с f1 = 0.337, но при это имеет также довольно высокое auc_roc = 0.784.\n",
    "При этом все модели имеют не очень большое значение полноты за счёт дисбаланса классов в тренировочной выборке.\n",
    "Все модели имеют довольно высокое значение площади под кривой ошибок, если сравнивать с случайной моделью (0.5).\n",
    "Для увеличения полноты необходимо применить методы борьбы с дисбалансом."
   ]
  },
  {
   "cell_type": "markdown",
   "metadata": {},
   "source": [
    "## Борьба с дисбалансом"
   ]
  },
  {
   "cell_type": "markdown",
   "metadata": {},
   "source": [
    "Борьба с дисбалансом может проводится с помощью трёх техник: взвешивания классов, upsampling и downsampling."
   ]
  },
  {
   "cell_type": "markdown",
   "metadata": {},
   "source": [
    "Опредилим гиперпараметры для методов решающего дерева и случайного леса для техники взвешивания классов"
   ]
  },
  {
   "cell_type": "code",
   "execution_count": 17,
   "metadata": {},
   "outputs": [
    {
     "name": "stdout",
     "output_type": "stream",
     "text": [
      "Максимальное значение f1 для модели DecisionTree на валидационной выборке с техникой взвешивания классов = 0.5772972972972974 с max_depth = 8\n"
     ]
    }
   ],
   "source": [
    "best_f1 = 0\n",
    "best_max_depth = 0\n",
    "for i in range(1, 51):\n",
    "    d_tree_model = DecisionTreeClassifier(max_depth = i, random_state = 8, class_weight = 'balanced')\n",
    "    d_tree_model.fit(train_features, train_target)\n",
    "    prediction_valid = d_tree_model.predict(valid_features)\n",
    "    f1 = f1_score(valid_target, prediction_valid)\n",
    "    if f1 > best_f1:\n",
    "        best_f1 = f1\n",
    "        best_max_depth = i\n",
    "print(f'Максимальное значение f1 для модели DecisionTree на валидационной выборке с техникой взвешивания классов = {best_f1} с max_depth = {best_max_depth}')"
   ]
  },
  {
   "cell_type": "code",
   "execution_count": 18,
   "metadata": {},
   "outputs": [
    {
     "name": "stdout",
     "output_type": "stream",
     "text": [
      "Максимальное значение f1 для модели RandomForest на валидационной выборке с техникой взвешивания классов = 0.6218274111675127 с max_depth = 10 и n_estimators = 34\n"
     ]
    }
   ],
   "source": [
    "best_est = 0\n",
    "best_depth = 0\n",
    "best_f1 = 0\n",
    "for est in range(1, 51):\n",
    "    for depth in range (1, 15):\n",
    "        R_forest_model = RandomForestClassifier(max_depth = depth, n_estimators = est, random_state = 8, class_weight = 'balanced')\n",
    "        R_forest_model.fit(train_features, train_target)\n",
    "        predictions_valid = R_forest_model.predict(valid_features)\n",
    "        f1 = f1_score(valid_target, predictions_valid)\n",
    "        if f1 > best_f1:\n",
    "            best_f1 = f1\n",
    "            best_est = est\n",
    "            best_depth = depth\n",
    "print(f'Максимальное значение f1 для модели RandomForest на валидационной выборке с техникой взвешивания классов = {best_f1} с max_depth = {best_depth} и n_estimators = {best_est}')"
   ]
  },
  {
   "cell_type": "code",
   "execution_count": 19,
   "metadata": {},
   "outputs": [
    {
     "data": {
      "text/html": [
       "<div>\n",
       "<style scoped>\n",
       "    .dataframe tbody tr th:only-of-type {\n",
       "        vertical-align: middle;\n",
       "    }\n",
       "\n",
       "    .dataframe tbody tr th {\n",
       "        vertical-align: top;\n",
       "    }\n",
       "\n",
       "    .dataframe thead th {\n",
       "        text-align: right;\n",
       "    }\n",
       "</style>\n",
       "<table border=\"1\" class=\"dataframe\">\n",
       "  <thead>\n",
       "    <tr style=\"text-align: right;\">\n",
       "      <th></th>\n",
       "      <th>Accuracy</th>\n",
       "      <th>Precision</th>\n",
       "      <th>Recall</th>\n",
       "      <th>F1</th>\n",
       "      <th>AUC_ROC</th>\n",
       "      <th>balance_method</th>\n",
       "      <th>name</th>\n",
       "    </tr>\n",
       "  </thead>\n",
       "  <tbody>\n",
       "    <tr>\n",
       "      <th>0</th>\n",
       "      <td>0.8300</td>\n",
       "      <td>0.578635</td>\n",
       "      <td>0.496183</td>\n",
       "      <td>0.534247</td>\n",
       "      <td>0.753944</td>\n",
       "      <td>disbalanced</td>\n",
       "      <td>decision tree</td>\n",
       "    </tr>\n",
       "    <tr>\n",
       "      <th>0</th>\n",
       "      <td>0.8045</td>\n",
       "      <td>0.501880</td>\n",
       "      <td>0.679389</td>\n",
       "      <td>0.577297</td>\n",
       "      <td>0.803672</td>\n",
       "      <td>class_weight</td>\n",
       "      <td>decision tree</td>\n",
       "    </tr>\n",
       "    <tr>\n",
       "      <th>0</th>\n",
       "      <td>0.8655</td>\n",
       "      <td>0.748000</td>\n",
       "      <td>0.475827</td>\n",
       "      <td>0.581649</td>\n",
       "      <td>0.831840</td>\n",
       "      <td>disbalanced</td>\n",
       "      <td>random forest</td>\n",
       "    </tr>\n",
       "    <tr>\n",
       "      <th>0</th>\n",
       "      <td>0.8510</td>\n",
       "      <td>0.620253</td>\n",
       "      <td>0.623410</td>\n",
       "      <td>0.621827</td>\n",
       "      <td>0.844747</td>\n",
       "      <td>class_weight</td>\n",
       "      <td>random forest</td>\n",
       "    </tr>\n",
       "  </tbody>\n",
       "</table>\n",
       "</div>"
      ],
      "text/plain": [
       "   Accuracy  Precision    Recall        F1   AUC_ROC balance_method  \\\n",
       "0    0.8300   0.578635  0.496183  0.534247  0.753944    disbalanced   \n",
       "0    0.8045   0.501880  0.679389  0.577297  0.803672   class_weight   \n",
       "0    0.8655   0.748000  0.475827  0.581649  0.831840    disbalanced   \n",
       "0    0.8510   0.620253  0.623410  0.621827  0.844747   class_weight   \n",
       "\n",
       "            name  \n",
       "0  decision tree  \n",
       "0  decision tree  \n",
       "0  random forest  \n",
       "0  random forest  "
      ]
     },
     "execution_count": 19,
     "metadata": {},
     "output_type": "execute_result"
    }
   ],
   "source": [
    "tree_model = DecisionTreeClassifier(random_state = 8, max_depth = 8, class_weight = 'balanced')\n",
    "tree_model.fit(train_features, train_target)\n",
    "\n",
    "forest_model = RandomForestClassifier(random_state = 8, n_estimators = 34, max_depth = 10, class_weight = 'balanced')\n",
    "forest_model.fit(train_features, train_target)\n",
    "\n",
    "metrics_dtc_w = model_metrics(tree_model, 'valid')\n",
    "metrics_dtc_w['balance_method'] = 'class_weight'\n",
    "metrics_dtc_w['name'] = 'decision tree'\n",
    "\n",
    "metrics_rfc_w = model_metrics(forest_model, 'valid')\n",
    "metrics_rfc_w['balance_method'] = 'class_weight'\n",
    "metrics_rfc_w['name'] = 'random forest'\n",
    "\n",
    "dis_metrics = pd.concat([dis_metrics, metrics_dtc_w, metrics_rfc_w])\n",
    "dis_metrics= dis_metrics.sort_values(by='name')\n",
    "dis_metrics"
   ]
  },
  {
   "cell_type": "markdown",
   "metadata": {},
   "source": [
    "Напишем функцию, которая будет проводить увеличение выборки"
   ]
  },
  {
   "cell_type": "code",
   "execution_count": 20,
   "metadata": {},
   "outputs": [],
   "source": [
    "def upsample(features, target, repeat):\n",
    "    features_zeros = features[target == 0]\n",
    "    features_ones = features[target == 1]\n",
    "    target_zeros = target[target == 0]\n",
    "    target_ones = target[target == 1]\n",
    "\n",
    "    features_upsampled = pd.concat([features_zeros] + [features_ones] * repeat)\n",
    "    target_upsampled = pd.concat([target_zeros] + [target_ones] * repeat)\n",
    "    \n",
    "    features_upsampled, target_upsampled = shuffle(\n",
    "        features_upsampled, target_upsampled, random_state=8)\n",
    "    \n",
    "    return features_upsampled, target_upsampled"
   ]
  },
  {
   "cell_type": "code",
   "execution_count": 21,
   "metadata": {},
   "outputs": [],
   "source": [
    "features_upsampled, target_upsampled = upsample(train_features, train_target, 4)"
   ]
  },
  {
   "cell_type": "markdown",
   "metadata": {},
   "source": [
    "Определим гиперпараметры для увеличенной выборки"
   ]
  },
  {
   "cell_type": "code",
   "execution_count": 22,
   "metadata": {},
   "outputs": [
    {
     "name": "stdout",
     "output_type": "stream",
     "text": [
      "Максимальное значение f1 для модели DecisionTree на валидационной выборке с техникой увеличения выборки = 0.5714285714285714 с max_depth = 8\n"
     ]
    }
   ],
   "source": [
    "best_f1 = 0\n",
    "best_max_depth = 0\n",
    "for i in range(1, 51):\n",
    "    d_tree_model = DecisionTreeClassifier(max_depth = i, random_state = 8)\n",
    "    d_tree_model.fit(features_upsampled, target_upsampled)\n",
    "    prediction_valid = d_tree_model.predict(valid_features)\n",
    "    f1 = f1_score(valid_target, prediction_valid)\n",
    "    if f1 > best_f1:\n",
    "        best_f1 = f1\n",
    "        best_max_depth = i\n",
    "print(f'Максимальное значение f1 для модели DecisionTree на валидационной выборке с техникой увеличения выборки = {best_f1} с max_depth = {best_max_depth}')"
   ]
  },
  {
   "cell_type": "code",
   "execution_count": 23,
   "metadata": {},
   "outputs": [
    {
     "name": "stdout",
     "output_type": "stream",
     "text": [
      "Максимальное значение f1 для модели RandomForest на валидационной выборке с техникой увеличения выборки = 0.6056701030927835 с max_depth = 14 и n_estimators = 33\n"
     ]
    }
   ],
   "source": [
    "best_est = 0\n",
    "best_depth = 0\n",
    "best_f1 = 0\n",
    "for est in range(1, 51):\n",
    "    for depth in range (1, 15):\n",
    "        R_forest_model = RandomForestClassifier(max_depth = depth, n_estimators = est, random_state = 8)\n",
    "        R_forest_model.fit(features_upsampled, target_upsampled)\n",
    "        predictions_valid = R_forest_model.predict(valid_features)\n",
    "        f1 = f1_score(valid_target, predictions_valid)\n",
    "        if f1 > best_f1:\n",
    "            best_f1 = f1\n",
    "            best_est = est\n",
    "            best_depth = depth\n",
    "print(f'Максимальное значение f1 для модели RandomForest на валидационной выборке с техникой увеличения выборки = {best_f1} с max_depth = {best_depth} и n_estimators = {best_est}')"
   ]
  },
  {
   "cell_type": "code",
   "execution_count": 24,
   "metadata": {},
   "outputs": [
    {
     "data": {
      "text/html": [
       "<div>\n",
       "<style scoped>\n",
       "    .dataframe tbody tr th:only-of-type {\n",
       "        vertical-align: middle;\n",
       "    }\n",
       "\n",
       "    .dataframe tbody tr th {\n",
       "        vertical-align: top;\n",
       "    }\n",
       "\n",
       "    .dataframe thead th {\n",
       "        text-align: right;\n",
       "    }\n",
       "</style>\n",
       "<table border=\"1\" class=\"dataframe\">\n",
       "  <thead>\n",
       "    <tr style=\"text-align: right;\">\n",
       "      <th></th>\n",
       "      <th>Accuracy</th>\n",
       "      <th>Precision</th>\n",
       "      <th>Recall</th>\n",
       "      <th>F1</th>\n",
       "      <th>AUC_ROC</th>\n",
       "      <th>balance_method</th>\n",
       "      <th>name</th>\n",
       "    </tr>\n",
       "  </thead>\n",
       "  <tbody>\n",
       "    <tr>\n",
       "      <th>0</th>\n",
       "      <td>0.8300</td>\n",
       "      <td>0.578635</td>\n",
       "      <td>0.496183</td>\n",
       "      <td>0.534247</td>\n",
       "      <td>0.753944</td>\n",
       "      <td>disbalanced</td>\n",
       "      <td>decision tree</td>\n",
       "    </tr>\n",
       "    <tr>\n",
       "      <th>0</th>\n",
       "      <td>0.8045</td>\n",
       "      <td>0.501880</td>\n",
       "      <td>0.679389</td>\n",
       "      <td>0.577297</td>\n",
       "      <td>0.803672</td>\n",
       "      <td>class_weight</td>\n",
       "      <td>decision tree</td>\n",
       "    </tr>\n",
       "    <tr>\n",
       "      <th>0</th>\n",
       "      <td>0.7900</td>\n",
       "      <td>0.477002</td>\n",
       "      <td>0.712468</td>\n",
       "      <td>0.571429</td>\n",
       "      <td>0.805042</td>\n",
       "      <td>upsampling</td>\n",
       "      <td>decision tree</td>\n",
       "    </tr>\n",
       "    <tr>\n",
       "      <th>0</th>\n",
       "      <td>0.8655</td>\n",
       "      <td>0.748000</td>\n",
       "      <td>0.475827</td>\n",
       "      <td>0.581649</td>\n",
       "      <td>0.831840</td>\n",
       "      <td>disbalanced</td>\n",
       "      <td>random forest</td>\n",
       "    </tr>\n",
       "    <tr>\n",
       "      <th>0</th>\n",
       "      <td>0.8510</td>\n",
       "      <td>0.620253</td>\n",
       "      <td>0.623410</td>\n",
       "      <td>0.621827</td>\n",
       "      <td>0.844747</td>\n",
       "      <td>class_weight</td>\n",
       "      <td>random forest</td>\n",
       "    </tr>\n",
       "    <tr>\n",
       "      <th>0</th>\n",
       "      <td>0.8470</td>\n",
       "      <td>0.613577</td>\n",
       "      <td>0.597964</td>\n",
       "      <td>0.605670</td>\n",
       "      <td>0.841181</td>\n",
       "      <td>upsampling</td>\n",
       "      <td>random forest</td>\n",
       "    </tr>\n",
       "  </tbody>\n",
       "</table>\n",
       "</div>"
      ],
      "text/plain": [
       "   Accuracy  Precision    Recall        F1   AUC_ROC balance_method  \\\n",
       "0    0.8300   0.578635  0.496183  0.534247  0.753944    disbalanced   \n",
       "0    0.8045   0.501880  0.679389  0.577297  0.803672   class_weight   \n",
       "0    0.7900   0.477002  0.712468  0.571429  0.805042     upsampling   \n",
       "0    0.8655   0.748000  0.475827  0.581649  0.831840    disbalanced   \n",
       "0    0.8510   0.620253  0.623410  0.621827  0.844747   class_weight   \n",
       "0    0.8470   0.613577  0.597964  0.605670  0.841181     upsampling   \n",
       "\n",
       "            name  \n",
       "0  decision tree  \n",
       "0  decision tree  \n",
       "0  decision tree  \n",
       "0  random forest  \n",
       "0  random forest  \n",
       "0  random forest  "
      ]
     },
     "execution_count": 24,
     "metadata": {},
     "output_type": "execute_result"
    }
   ],
   "source": [
    "tree_model = DecisionTreeClassifier(random_state = 8, max_depth = 8)\n",
    "tree_model.fit(features_upsampled, target_upsampled)\n",
    "\n",
    "forest_model = RandomForestClassifier(random_state = 8, n_estimators = 33, max_depth = 14)\n",
    "forest_model.fit(features_upsampled, target_upsampled)\n",
    "\n",
    "metrics_dtc_u = model_metrics(tree_model, 'valid')\n",
    "metrics_dtc_u['balance_method'] = 'upsampling'\n",
    "metrics_dtc_u['name'] = 'decision tree'\n",
    "\n",
    "metrics_rfc_u = model_metrics(forest_model, 'valid')\n",
    "metrics_rfc_u['balance_method'] = 'upsampling'\n",
    "metrics_rfc_u['name'] = 'random forest'\n",
    "\n",
    "dis_metrics = pd.concat([dis_metrics, metrics_dtc_u, metrics_rfc_u])\n",
    "dis_metrics= dis_metrics.sort_values(by='name')\n",
    "dis_metrics"
   ]
  },
  {
   "cell_type": "markdown",
   "metadata": {},
   "source": [
    "Напишем функцию, которая будет проводить уменьшение выборки"
   ]
  },
  {
   "cell_type": "code",
   "execution_count": 25,
   "metadata": {},
   "outputs": [],
   "source": [
    "def downsample(features, target, fraction):\n",
    "    features_zeros = features[target == 0]\n",
    "    features_ones = features[target == 1]\n",
    "    target_zeros = target[target == 0]\n",
    "    target_ones = target[target == 1]\n",
    "\n",
    "    features_downsampled = pd.concat(\n",
    "        [features_zeros.sample(frac=fraction, random_state=8)] + [features_ones])\n",
    "    target_downsampled = pd.concat(\n",
    "        [target_zeros.sample(frac=fraction, random_state=8)] + [target_ones])\n",
    "    \n",
    "    features_downsampled, target_downsampled = shuffle(\n",
    "        features_downsampled, target_downsampled, random_state=8)\n",
    "    \n",
    "    return features_downsampled, target_downsampled"
   ]
  },
  {
   "cell_type": "code",
   "execution_count": 26,
   "metadata": {},
   "outputs": [],
   "source": [
    "features_downsampled, target_downsampled = downsample(train_features, train_target, 0.25)"
   ]
  },
  {
   "cell_type": "markdown",
   "metadata": {},
   "source": [
    "Определим гиперпараметры для уменьшенной выборки"
   ]
  },
  {
   "cell_type": "code",
   "execution_count": 27,
   "metadata": {},
   "outputs": [
    {
     "name": "stdout",
     "output_type": "stream",
     "text": [
      "Максимальное значение f1 для модели DecisionTree на валидационной выборке с техникой уменьшения выборки = 0.549950544015826 с max_depth = 6\n"
     ]
    }
   ],
   "source": [
    "best_f1 = 0\n",
    "best_max_depth = 0\n",
    "for i in range(1, 51):\n",
    "    d_tree_model = DecisionTreeClassifier(max_depth = i, random_state = 8)\n",
    "    d_tree_model.fit(features_downsampled, target_downsampled)\n",
    "    prediction_valid = d_tree_model.predict(valid_features)\n",
    "    f1 = f1_score(valid_target, prediction_valid)\n",
    "    if f1 > best_f1:\n",
    "        best_f1 = f1\n",
    "        best_max_depth = i\n",
    "print(f'Максимальное значение f1 для модели DecisionTree на валидационной выборке с техникой уменьшения выборки = {best_f1} с max_depth = {best_max_depth}')"
   ]
  },
  {
   "cell_type": "code",
   "execution_count": 28,
   "metadata": {},
   "outputs": [
    {
     "name": "stdout",
     "output_type": "stream",
     "text": [
      "Максимальное значение f1 для модели RandomForest на валидационной выборке с техникой уменьшения выборки = 0.585838991270611 с max_depth = 5 и n_estimators = 43\n"
     ]
    }
   ],
   "source": [
    "best_est = 0\n",
    "best_depth = 0\n",
    "best_f1 = 0\n",
    "for est in range(1, 51):\n",
    "    for depth in range (1, 15):\n",
    "        R_forest_model = RandomForestClassifier(max_depth = depth, n_estimators = est, random_state = 8)\n",
    "        R_forest_model.fit(features_downsampled, target_downsampled)\n",
    "        predictions_valid = R_forest_model.predict(valid_features)\n",
    "        f1 = f1_score(valid_target, predictions_valid)\n",
    "        if f1 > best_f1:\n",
    "            best_f1 = f1\n",
    "            best_est = est\n",
    "            best_depth = depth\n",
    "print(f'Максимальное значение f1 для модели RandomForest на валидационной выборке с техникой уменьшения выборки = {best_f1} с max_depth = {best_depth} и n_estimators = {best_est}')"
   ]
  },
  {
   "cell_type": "code",
   "execution_count": 29,
   "metadata": {},
   "outputs": [
    {
     "data": {
      "text/html": [
       "<div>\n",
       "<style scoped>\n",
       "    .dataframe tbody tr th:only-of-type {\n",
       "        vertical-align: middle;\n",
       "    }\n",
       "\n",
       "    .dataframe tbody tr th {\n",
       "        vertical-align: top;\n",
       "    }\n",
       "\n",
       "    .dataframe thead th {\n",
       "        text-align: right;\n",
       "    }\n",
       "</style>\n",
       "<table border=\"1\" class=\"dataframe\">\n",
       "  <thead>\n",
       "    <tr style=\"text-align: right;\">\n",
       "      <th></th>\n",
       "      <th>Accuracy</th>\n",
       "      <th>Precision</th>\n",
       "      <th>Recall</th>\n",
       "      <th>F1</th>\n",
       "      <th>AUC_ROC</th>\n",
       "      <th>balance_method</th>\n",
       "      <th>name</th>\n",
       "    </tr>\n",
       "  </thead>\n",
       "  <tbody>\n",
       "    <tr>\n",
       "      <th>0</th>\n",
       "      <td>0.8300</td>\n",
       "      <td>0.578635</td>\n",
       "      <td>0.496183</td>\n",
       "      <td>0.534247</td>\n",
       "      <td>0.753944</td>\n",
       "      <td>disbalanced</td>\n",
       "      <td>decision tree</td>\n",
       "    </tr>\n",
       "    <tr>\n",
       "      <th>0</th>\n",
       "      <td>0.8045</td>\n",
       "      <td>0.501880</td>\n",
       "      <td>0.679389</td>\n",
       "      <td>0.577297</td>\n",
       "      <td>0.803672</td>\n",
       "      <td>class_weight</td>\n",
       "      <td>decision tree</td>\n",
       "    </tr>\n",
       "    <tr>\n",
       "      <th>0</th>\n",
       "      <td>0.7900</td>\n",
       "      <td>0.477002</td>\n",
       "      <td>0.712468</td>\n",
       "      <td>0.571429</td>\n",
       "      <td>0.805042</td>\n",
       "      <td>upsampling</td>\n",
       "      <td>decision tree</td>\n",
       "    </tr>\n",
       "    <tr>\n",
       "      <th>0</th>\n",
       "      <td>0.7725</td>\n",
       "      <td>0.449838</td>\n",
       "      <td>0.707379</td>\n",
       "      <td>0.549951</td>\n",
       "      <td>0.820844</td>\n",
       "      <td>downsampling</td>\n",
       "      <td>decision tree</td>\n",
       "    </tr>\n",
       "    <tr>\n",
       "      <th>0</th>\n",
       "      <td>0.8655</td>\n",
       "      <td>0.748000</td>\n",
       "      <td>0.475827</td>\n",
       "      <td>0.581649</td>\n",
       "      <td>0.831840</td>\n",
       "      <td>disbalanced</td>\n",
       "      <td>random forest</td>\n",
       "    </tr>\n",
       "    <tr>\n",
       "      <th>0</th>\n",
       "      <td>0.8510</td>\n",
       "      <td>0.620253</td>\n",
       "      <td>0.623410</td>\n",
       "      <td>0.621827</td>\n",
       "      <td>0.844747</td>\n",
       "      <td>class_weight</td>\n",
       "      <td>random forest</td>\n",
       "    </tr>\n",
       "    <tr>\n",
       "      <th>0</th>\n",
       "      <td>0.8470</td>\n",
       "      <td>0.613577</td>\n",
       "      <td>0.597964</td>\n",
       "      <td>0.605670</td>\n",
       "      <td>0.841181</td>\n",
       "      <td>upsampling</td>\n",
       "      <td>random forest</td>\n",
       "    </tr>\n",
       "    <tr>\n",
       "      <th>0</th>\n",
       "      <td>0.7865</td>\n",
       "      <td>0.473354</td>\n",
       "      <td>0.768448</td>\n",
       "      <td>0.585839</td>\n",
       "      <td>0.852931</td>\n",
       "      <td>downsampling</td>\n",
       "      <td>random forest</td>\n",
       "    </tr>\n",
       "  </tbody>\n",
       "</table>\n",
       "</div>"
      ],
      "text/plain": [
       "   Accuracy  Precision    Recall        F1   AUC_ROC balance_method  \\\n",
       "0    0.8300   0.578635  0.496183  0.534247  0.753944    disbalanced   \n",
       "0    0.8045   0.501880  0.679389  0.577297  0.803672   class_weight   \n",
       "0    0.7900   0.477002  0.712468  0.571429  0.805042     upsampling   \n",
       "0    0.7725   0.449838  0.707379  0.549951  0.820844   downsampling   \n",
       "0    0.8655   0.748000  0.475827  0.581649  0.831840    disbalanced   \n",
       "0    0.8510   0.620253  0.623410  0.621827  0.844747   class_weight   \n",
       "0    0.8470   0.613577  0.597964  0.605670  0.841181     upsampling   \n",
       "0    0.7865   0.473354  0.768448  0.585839  0.852931   downsampling   \n",
       "\n",
       "            name  \n",
       "0  decision tree  \n",
       "0  decision tree  \n",
       "0  decision tree  \n",
       "0  decision tree  \n",
       "0  random forest  \n",
       "0  random forest  \n",
       "0  random forest  \n",
       "0  random forest  "
      ]
     },
     "execution_count": 29,
     "metadata": {},
     "output_type": "execute_result"
    }
   ],
   "source": [
    "tree_model = DecisionTreeClassifier(random_state = 8, max_depth = 6)\n",
    "tree_model.fit(features_downsampled, target_downsampled)\n",
    "\n",
    "forest_model = RandomForestClassifier(random_state = 8, n_estimators = 43, max_depth = 5)\n",
    "forest_model.fit(features_downsampled, target_downsampled)\n",
    "\n",
    "metrics_dtc_d = model_metrics(tree_model, 'valid')\n",
    "metrics_dtc_d['balance_method'] = 'downsampling'\n",
    "metrics_dtc_d['name'] = 'decision tree'\n",
    "\n",
    "metrics_rfc_d = model_metrics(forest_model, 'valid')\n",
    "metrics_rfc_d['balance_method'] = 'downsampling'\n",
    "metrics_rfc_d['name'] = 'random forest'\n",
    "\n",
    "dis_metrics = pd.concat([dis_metrics, metrics_dtc_d, metrics_rfc_d])\n",
    "dis_metrics= dis_metrics.sort_values(by='name')\n",
    "dis_metrics"
   ]
  },
  {
   "cell_type": "markdown",
   "metadata": {},
   "source": [
    "**Вывод**\n",
    "\n",
    "Были обучены разные модели с применением различных техник борьбы с дисбалансом.\n",
    "Судя по метрикам f1 и auc_roc качество моделей выросло. Как мы видим по таблице точность немного упала, зато полнота выросла, поэтому f1 и вырос.\n",
    "Самые качественные модели (по метрике f1) - это модель случайного леса с применением техники взвешивания классов и техники увеличения выборки. Эти модели преодолели требуемый порог в f1 = 0.59. Именно эти модели и будем тестировать в 4 пункте."
   ]
  },
  {
   "cell_type": "markdown",
   "metadata": {},
   "source": [
    "## Тестирование модели"
   ]
  },
  {
   "cell_type": "code",
   "execution_count": 30,
   "metadata": {},
   "outputs": [
    {
     "data": {
      "text/html": [
       "<div>\n",
       "<style scoped>\n",
       "    .dataframe tbody tr th:only-of-type {\n",
       "        vertical-align: middle;\n",
       "    }\n",
       "\n",
       "    .dataframe tbody tr th {\n",
       "        vertical-align: top;\n",
       "    }\n",
       "\n",
       "    .dataframe thead th {\n",
       "        text-align: right;\n",
       "    }\n",
       "</style>\n",
       "<table border=\"1\" class=\"dataframe\">\n",
       "  <thead>\n",
       "    <tr style=\"text-align: right;\">\n",
       "      <th></th>\n",
       "      <th>Accuracy</th>\n",
       "      <th>Precision</th>\n",
       "      <th>Recall</th>\n",
       "      <th>F1</th>\n",
       "      <th>AUC_ROC</th>\n",
       "      <th>balance_method</th>\n",
       "      <th>name</th>\n",
       "    </tr>\n",
       "  </thead>\n",
       "  <tbody>\n",
       "    <tr>\n",
       "      <th>0</th>\n",
       "      <td>0.8475</td>\n",
       "      <td>0.631313</td>\n",
       "      <td>0.611247</td>\n",
       "      <td>0.621118</td>\n",
       "      <td>0.855137</td>\n",
       "      <td>upsampling</td>\n",
       "      <td>random forest</td>\n",
       "    </tr>\n",
       "    <tr>\n",
       "      <th>0</th>\n",
       "      <td>0.8520</td>\n",
       "      <td>0.645244</td>\n",
       "      <td>0.613692</td>\n",
       "      <td>0.629073</td>\n",
       "      <td>0.853734</td>\n",
       "      <td>class_weight</td>\n",
       "      <td>random forest</td>\n",
       "    </tr>\n",
       "  </tbody>\n",
       "</table>\n",
       "</div>"
      ],
      "text/plain": [
       "   Accuracy  Precision    Recall        F1   AUC_ROC balance_method  \\\n",
       "0    0.8475   0.631313  0.611247  0.621118  0.855137     upsampling   \n",
       "0    0.8520   0.645244  0.613692  0.629073  0.853734   class_weight   \n",
       "\n",
       "            name  \n",
       "0  random forest  \n",
       "0  random forest  "
      ]
     },
     "execution_count": 30,
     "metadata": {},
     "output_type": "execute_result"
    }
   ],
   "source": [
    "forest_model_up = RandomForestClassifier(random_state = 8, n_estimators = 33, max_depth = 14)\n",
    "forest_model_up.fit(features_upsampled, target_upsampled)\n",
    "\n",
    "forest_model_w = RandomForestClassifier(random_state = 8, n_estimators = 34, max_depth = 10, class_weight = 'balanced')\n",
    "forest_model_w.fit(train_features, train_target)\n",
    "\n",
    "metrics_rfc_up = model_metrics(forest_model_up, 'test')\n",
    "metrics_rfc_up['balance_method'] = 'upsampling'\n",
    "metrics_rfc_up['name'] = 'random forest'\n",
    "\n",
    "metrics_rfc_w = model_metrics(forest_model_w, 'test')\n",
    "metrics_rfc_w['balance_method'] = 'class_weight'\n",
    "metrics_rfc_w['name'] = 'random forest'\n",
    "\n",
    "dis_metrics = pd.concat([metrics_rfc_up, metrics_rfc_w])\n",
    "dis_metrics= dis_metrics.sort_values(by='name')\n",
    "dis_metrics"
   ]
  },
  {
   "cell_type": "markdown",
   "metadata": {},
   "source": [
    "**Вывод**\n",
    "\n",
    "Обе модели на тестовой выборке показали довольно высокие результаты с F1-мерой больше 0,59. Метрика AUC_ROC также получилась довольно высокой, значительно больше случайной модели (0,5)"
   ]
  },
  {
   "cell_type": "markdown",
   "metadata": {},
   "source": [
    "## Чек-лист готовности проекта"
   ]
  },
  {
   "cell_type": "markdown",
   "metadata": {},
   "source": [
    "Поставьте 'x' в выполненных пунктах. Далее нажмите Shift+Enter."
   ]
  },
  {
   "cell_type": "markdown",
   "metadata": {},
   "source": [
    "- [x]  Jupyter Notebook открыт\n",
    "- [x]  Весь код выполняется без ошибок\n",
    "- [x]  Ячейки с кодом расположены в порядке исполнения\n",
    "- [x]  Выполнен шаг 1: данные подготовлены\n",
    "- [x]  Выполнен шаг 2: задача исследована\n",
    "    - [x]  Исследован баланс классов\n",
    "    - [x]  Изучены модели без учёта дисбаланса\n",
    "    - [x]  Написаны выводы по результатам исследования\n",
    "- [x]  Выполнен шаг 3: учтён дисбаланс\n",
    "    - [x]  Применено несколько способов борьбы с дисбалансом\n",
    "    - [x]  Написаны выводы по результатам исследования\n",
    "- [x]  Выполнен шаг 4: проведено тестирование\n",
    "- [x]  Удалось достичь *F1*-меры не менее 0.59\n",
    "- [x]  Исследована метрика *AUC-ROC*"
   ]
  },
  {
   "cell_type": "code",
   "execution_count": null,
   "metadata": {},
   "outputs": [],
   "source": []
  }
 ],
 "metadata": {
  "ExecuteTimeLog": [
   {
    "duration": 1003,
    "start_time": "2022-02-08T12:32:46.962Z"
   },
   {
    "duration": 89,
    "start_time": "2022-02-08T12:33:27.370Z"
   },
   {
    "duration": 5,
    "start_time": "2022-02-08T12:43:43.990Z"
   },
   {
    "duration": 9,
    "start_time": "2022-02-08T12:51:25.819Z"
   },
   {
    "duration": 8,
    "start_time": "2022-02-08T12:53:00.766Z"
   },
   {
    "duration": 5,
    "start_time": "2022-02-08T12:58:13.498Z"
   },
   {
    "duration": 9,
    "start_time": "2022-02-08T12:58:33.489Z"
   },
   {
    "duration": 1214,
    "start_time": "2022-02-08T12:58:42.264Z"
   },
   {
    "duration": 89,
    "start_time": "2022-02-08T12:58:43.481Z"
   },
   {
    "duration": 6,
    "start_time": "2022-02-08T12:58:43.573Z"
   },
   {
    "duration": 23,
    "start_time": "2022-02-08T12:58:43.581Z"
   },
   {
    "duration": 18,
    "start_time": "2022-02-08T12:58:43.606Z"
   },
   {
    "duration": 8,
    "start_time": "2022-02-08T12:58:43.626Z"
   },
   {
    "duration": 31,
    "start_time": "2022-02-08T12:58:43.636Z"
   },
   {
    "duration": 9,
    "start_time": "2022-02-08T13:04:03.365Z"
   },
   {
    "duration": 1030,
    "start_time": "2022-02-08T13:04:11.239Z"
   },
   {
    "duration": 93,
    "start_time": "2022-02-08T13:04:12.272Z"
   },
   {
    "duration": 8,
    "start_time": "2022-02-08T13:04:12.368Z"
   },
   {
    "duration": 9,
    "start_time": "2022-02-08T13:04:12.378Z"
   },
   {
    "duration": 30,
    "start_time": "2022-02-08T13:04:12.389Z"
   },
   {
    "duration": 11,
    "start_time": "2022-02-08T13:04:12.421Z"
   },
   {
    "duration": 6,
    "start_time": "2022-02-08T13:04:12.433Z"
   },
   {
    "duration": 19,
    "start_time": "2022-02-08T13:04:12.440Z"
   },
   {
    "duration": 322,
    "start_time": "2022-02-08T13:04:12.462Z"
   },
   {
    "duration": 1003,
    "start_time": "2022-02-08T13:07:54.952Z"
   },
   {
    "duration": 91,
    "start_time": "2022-02-08T13:07:55.957Z"
   },
   {
    "duration": 5,
    "start_time": "2022-02-08T13:07:56.050Z"
   },
   {
    "duration": 9,
    "start_time": "2022-02-08T13:07:56.057Z"
   },
   {
    "duration": 12,
    "start_time": "2022-02-08T13:07:56.068Z"
   },
   {
    "duration": 4,
    "start_time": "2022-02-08T13:07:56.082Z"
   },
   {
    "duration": 13,
    "start_time": "2022-02-08T13:07:56.088Z"
   },
   {
    "duration": 23,
    "start_time": "2022-02-08T13:07:56.103Z"
   },
   {
    "duration": 323,
    "start_time": "2022-02-08T13:07:56.128Z"
   },
   {
    "duration": 15,
    "start_time": "2022-02-08T13:15:00.301Z"
   },
   {
    "duration": 8,
    "start_time": "2022-02-08T13:16:53.171Z"
   },
   {
    "duration": 255,
    "start_time": "2022-02-08T13:17:55.350Z"
   },
   {
    "duration": 670,
    "start_time": "2022-02-08T13:18:29.622Z"
   },
   {
    "duration": 20,
    "start_time": "2022-02-08T13:18:53.852Z"
   },
   {
    "duration": 1193,
    "start_time": "2022-02-08T13:18:59.203Z"
   },
   {
    "duration": 98,
    "start_time": "2022-02-08T13:19:00.398Z"
   },
   {
    "duration": 21,
    "start_time": "2022-02-08T13:19:00.499Z"
   },
   {
    "duration": 13,
    "start_time": "2022-02-08T13:19:00.523Z"
   },
   {
    "duration": 23,
    "start_time": "2022-02-08T13:19:00.539Z"
   },
   {
    "duration": 8,
    "start_time": "2022-02-08T13:19:00.564Z"
   },
   {
    "duration": 19,
    "start_time": "2022-02-08T13:19:00.574Z"
   },
   {
    "duration": 36,
    "start_time": "2022-02-08T13:19:00.596Z"
   },
   {
    "duration": 19,
    "start_time": "2022-02-08T13:19:00.634Z"
   },
   {
    "duration": 24,
    "start_time": "2022-02-08T13:19:00.655Z"
   },
   {
    "duration": 33,
    "start_time": "2022-02-08T13:19:00.681Z"
   },
   {
    "duration": 1378,
    "start_time": "2022-02-12T10:28:44.125Z"
   },
   {
    "duration": 136,
    "start_time": "2022-02-12T10:28:45.505Z"
   },
   {
    "duration": 10,
    "start_time": "2022-02-12T10:28:45.645Z"
   },
   {
    "duration": 9,
    "start_time": "2022-02-12T10:28:45.658Z"
   },
   {
    "duration": 14,
    "start_time": "2022-02-12T10:28:45.670Z"
   },
   {
    "duration": 40,
    "start_time": "2022-02-12T10:28:45.687Z"
   },
   {
    "duration": 7,
    "start_time": "2022-02-12T10:28:45.729Z"
   },
   {
    "duration": 13,
    "start_time": "2022-02-12T10:28:45.739Z"
   },
   {
    "duration": 14,
    "start_time": "2022-02-12T10:28:45.755Z"
   },
   {
    "duration": 53,
    "start_time": "2022-02-12T10:28:45.771Z"
   },
   {
    "duration": 28,
    "start_time": "2022-02-12T10:28:45.827Z"
   },
   {
    "duration": 6,
    "start_time": "2022-02-12T10:28:45.857Z"
   },
   {
    "duration": 7,
    "start_time": "2022-02-12T11:20:19.845Z"
   },
   {
    "duration": 456,
    "start_time": "2022-02-12T12:06:56.588Z"
   },
   {
    "duration": 161,
    "start_time": "2022-02-12T12:07:04.953Z"
   },
   {
    "duration": 194,
    "start_time": "2022-02-12T14:48:07.922Z"
   },
   {
    "duration": 1603,
    "start_time": "2022-02-12T14:49:23.230Z"
   },
   {
    "duration": 197,
    "start_time": "2022-02-12T14:49:37.177Z"
   },
   {
    "duration": 209,
    "start_time": "2022-02-12T14:50:28.675Z"
   },
   {
    "duration": 416,
    "start_time": "2022-02-12T14:55:48.212Z"
   },
   {
    "duration": 523,
    "start_time": "2022-02-12T14:58:01.107Z"
   },
   {
    "duration": 433,
    "start_time": "2022-02-12T14:58:12.103Z"
   },
   {
    "duration": 493,
    "start_time": "2022-02-12T14:58:29.157Z"
   },
   {
    "duration": 509,
    "start_time": "2022-02-12T14:59:04.917Z"
   },
   {
    "duration": 435,
    "start_time": "2022-02-12T15:00:29.498Z"
   },
   {
    "duration": 453,
    "start_time": "2022-02-12T15:06:37.087Z"
   },
   {
    "duration": 459,
    "start_time": "2022-02-12T15:07:27.779Z"
   },
   {
    "duration": 349,
    "start_time": "2022-02-12T15:07:53.493Z"
   },
   {
    "duration": 431,
    "start_time": "2022-02-12T15:08:48.308Z"
   },
   {
    "duration": 2100,
    "start_time": "2022-02-12T15:29:55.610Z"
   },
   {
    "duration": 2326,
    "start_time": "2022-02-12T15:34:30.405Z"
   },
   {
    "duration": 2671,
    "start_time": "2022-02-12T15:34:48.027Z"
   },
   {
    "duration": 2841,
    "start_time": "2022-02-12T15:35:17.146Z"
   },
   {
    "duration": 1809,
    "start_time": "2022-02-12T15:35:33.971Z"
   },
   {
    "duration": 2580,
    "start_time": "2022-02-12T15:36:26.533Z"
   },
   {
    "duration": 2477,
    "start_time": "2022-02-12T15:36:49.180Z"
   },
   {
    "duration": 1840,
    "start_time": "2022-02-12T15:37:59.765Z"
   },
   {
    "duration": 1988,
    "start_time": "2022-02-12T15:38:19.976Z"
   },
   {
    "duration": 2185,
    "start_time": "2022-02-12T15:38:46.702Z"
   },
   {
    "duration": 1759,
    "start_time": "2022-02-12T15:40:54.935Z"
   },
   {
    "duration": 137603,
    "start_time": "2022-02-12T15:42:23.828Z"
   },
   {
    "duration": 1588,
    "start_time": "2022-02-12T15:46:27.741Z"
   },
   {
    "duration": 329,
    "start_time": "2022-02-12T15:46:29.333Z"
   },
   {
    "duration": 10,
    "start_time": "2022-02-12T15:46:29.665Z"
   },
   {
    "duration": 10,
    "start_time": "2022-02-12T15:46:29.678Z"
   },
   {
    "duration": 46,
    "start_time": "2022-02-12T15:46:29.691Z"
   },
   {
    "duration": 8,
    "start_time": "2022-02-12T15:46:29.740Z"
   },
   {
    "duration": 11,
    "start_time": "2022-02-12T15:46:29.751Z"
   },
   {
    "duration": 64,
    "start_time": "2022-02-12T15:46:29.766Z"
   },
   {
    "duration": 19,
    "start_time": "2022-02-12T15:46:29.834Z"
   },
   {
    "duration": 14,
    "start_time": "2022-02-12T15:46:29.856Z"
   },
   {
    "duration": 75,
    "start_time": "2022-02-12T15:46:29.873Z"
   },
   {
    "duration": 8,
    "start_time": "2022-02-12T15:46:29.952Z"
   },
   {
    "duration": 11,
    "start_time": "2022-02-12T15:46:29.963Z"
   },
   {
    "duration": 2242,
    "start_time": "2022-02-12T15:46:29.976Z"
   },
   {
    "duration": 136059,
    "start_time": "2022-02-12T15:46:32.221Z"
   },
   {
    "duration": 576,
    "start_time": "2022-02-12T15:48:48.283Z"
   },
   {
    "duration": 619,
    "start_time": "2022-02-12T15:48:59.317Z"
   },
   {
    "duration": 4488,
    "start_time": "2022-02-12T15:56:35.842Z"
   },
   {
    "duration": 6,
    "start_time": "2022-02-12T15:56:45.576Z"
   },
   {
    "duration": 1590,
    "start_time": "2022-02-17T15:06:02.953Z"
   },
   {
    "duration": 155,
    "start_time": "2022-02-17T15:06:04.547Z"
   },
   {
    "duration": 11,
    "start_time": "2022-02-17T15:06:04.706Z"
   },
   {
    "duration": 10,
    "start_time": "2022-02-17T15:06:04.720Z"
   },
   {
    "duration": 28,
    "start_time": "2022-02-17T15:06:04.733Z"
   },
   {
    "duration": 8,
    "start_time": "2022-02-17T15:06:04.764Z"
   },
   {
    "duration": 9,
    "start_time": "2022-02-17T15:06:04.774Z"
   },
   {
    "duration": 24,
    "start_time": "2022-02-17T15:06:04.786Z"
   },
   {
    "duration": 52,
    "start_time": "2022-02-17T15:06:04.814Z"
   },
   {
    "duration": 9,
    "start_time": "2022-02-17T15:06:04.869Z"
   },
   {
    "duration": 37,
    "start_time": "2022-02-17T15:06:04.881Z"
   },
   {
    "duration": 6,
    "start_time": "2022-02-17T15:06:04.921Z"
   },
   {
    "duration": 9,
    "start_time": "2022-02-17T15:06:04.929Z"
   },
   {
    "duration": 2059,
    "start_time": "2022-02-17T15:06:04.940Z"
   },
   {
    "duration": 148669,
    "start_time": "2022-02-17T15:06:07.002Z"
   },
   {
    "duration": 597,
    "start_time": "2022-02-17T15:08:35.674Z"
   },
   {
    "duration": 334,
    "start_time": "2022-02-17T15:08:36.274Z"
   },
   {
    "duration": 565,
    "start_time": "2022-02-17T15:09:49.499Z"
   },
   {
    "duration": 577,
    "start_time": "2022-02-17T15:09:53.900Z"
   },
   {
    "duration": 622,
    "start_time": "2022-02-17T15:10:12.143Z"
   },
   {
    "duration": 577,
    "start_time": "2022-02-17T15:10:15.199Z"
   },
   {
    "duration": 1004,
    "start_time": "2022-02-17T15:10:49.934Z"
   },
   {
    "duration": 635,
    "start_time": "2022-02-17T15:11:27.726Z"
   },
   {
    "duration": 608,
    "start_time": "2022-02-17T15:11:40.567Z"
   },
   {
    "duration": 562,
    "start_time": "2022-02-17T15:11:43.806Z"
   },
   {
    "duration": 709,
    "start_time": "2022-02-17T15:11:50.366Z"
   },
   {
    "duration": 722,
    "start_time": "2022-02-17T15:11:52.574Z"
   },
   {
    "duration": 7,
    "start_time": "2022-02-17T15:14:41.480Z"
   },
   {
    "duration": 771,
    "start_time": "2022-02-17T15:17:49.600Z"
   },
   {
    "duration": 9,
    "start_time": "2022-02-17T15:18:23.057Z"
   },
   {
    "duration": 114,
    "start_time": "2022-02-17T15:19:52.220Z"
   },
   {
    "duration": 1828,
    "start_time": "2022-02-17T15:22:31.316Z"
   },
   {
    "duration": 1965,
    "start_time": "2022-02-17T15:23:02.927Z"
   },
   {
    "duration": 566,
    "start_time": "2022-02-17T15:23:06.917Z"
   },
   {
    "duration": 1440,
    "start_time": "2022-02-17T15:23:59.069Z"
   },
   {
    "duration": 139,
    "start_time": "2022-02-17T15:24:00.512Z"
   },
   {
    "duration": 11,
    "start_time": "2022-02-17T15:24:00.662Z"
   },
   {
    "duration": 12,
    "start_time": "2022-02-17T15:24:00.675Z"
   },
   {
    "duration": 15,
    "start_time": "2022-02-17T15:24:00.689Z"
   },
   {
    "duration": 10,
    "start_time": "2022-02-17T15:24:00.706Z"
   },
   {
    "duration": 44,
    "start_time": "2022-02-17T15:24:00.718Z"
   },
   {
    "duration": 13,
    "start_time": "2022-02-17T15:24:00.765Z"
   },
   {
    "duration": 26,
    "start_time": "2022-02-17T15:24:00.782Z"
   },
   {
    "duration": 9,
    "start_time": "2022-02-17T15:24:00.811Z"
   },
   {
    "duration": 67,
    "start_time": "2022-02-17T15:24:00.823Z"
   },
   {
    "duration": 9,
    "start_time": "2022-02-17T15:24:00.894Z"
   },
   {
    "duration": 23,
    "start_time": "2022-02-17T15:24:00.906Z"
   },
   {
    "duration": 1886,
    "start_time": "2022-02-17T15:24:00.932Z"
   },
   {
    "duration": 132819,
    "start_time": "2022-02-17T15:26:12.701Z"
   },
   {
    "duration": 553,
    "start_time": "2022-02-17T15:28:25.523Z"
   },
   {
    "duration": 5,
    "start_time": "2022-02-17T15:28:26.078Z"
   },
   {
    "duration": 452,
    "start_time": "2022-02-17T15:28:26.086Z"
   },
   {
    "duration": -29,
    "start_time": "2022-02-17T15:28:26.570Z"
   },
   {
    "duration": 1293,
    "start_time": "2022-02-17T15:30:14.991Z"
   },
   {
    "duration": 129,
    "start_time": "2022-02-17T15:30:16.287Z"
   },
   {
    "duration": 8,
    "start_time": "2022-02-17T15:30:16.419Z"
   },
   {
    "duration": 9,
    "start_time": "2022-02-17T15:30:16.429Z"
   },
   {
    "duration": 13,
    "start_time": "2022-02-17T15:30:16.462Z"
   },
   {
    "duration": 6,
    "start_time": "2022-02-17T15:30:16.477Z"
   },
   {
    "duration": 10,
    "start_time": "2022-02-17T15:30:16.485Z"
   },
   {
    "duration": 13,
    "start_time": "2022-02-17T15:30:16.499Z"
   },
   {
    "duration": 51,
    "start_time": "2022-02-17T15:30:16.515Z"
   },
   {
    "duration": 9,
    "start_time": "2022-02-17T15:30:16.569Z"
   },
   {
    "duration": 28,
    "start_time": "2022-02-17T15:30:16.580Z"
   },
   {
    "duration": 6,
    "start_time": "2022-02-17T15:30:16.610Z"
   },
   {
    "duration": 43,
    "start_time": "2022-02-17T15:30:16.618Z"
   },
   {
    "duration": 1727,
    "start_time": "2022-02-17T15:30:16.664Z"
   },
   {
    "duration": 1412,
    "start_time": "2022-02-17T15:31:18.574Z"
   },
   {
    "duration": 132,
    "start_time": "2022-02-17T15:31:19.989Z"
   },
   {
    "duration": 9,
    "start_time": "2022-02-17T15:31:20.125Z"
   },
   {
    "duration": 10,
    "start_time": "2022-02-17T15:31:20.160Z"
   },
   {
    "duration": 14,
    "start_time": "2022-02-17T15:31:20.173Z"
   },
   {
    "duration": 7,
    "start_time": "2022-02-17T15:31:20.191Z"
   },
   {
    "duration": 7,
    "start_time": "2022-02-17T15:31:20.200Z"
   },
   {
    "duration": 59,
    "start_time": "2022-02-17T15:31:20.211Z"
   },
   {
    "duration": 16,
    "start_time": "2022-02-17T15:31:20.273Z"
   },
   {
    "duration": 11,
    "start_time": "2022-02-17T15:31:20.291Z"
   },
   {
    "duration": 71,
    "start_time": "2022-02-17T15:31:20.305Z"
   },
   {
    "duration": 7,
    "start_time": "2022-02-17T15:31:20.378Z"
   },
   {
    "duration": 8,
    "start_time": "2022-02-17T15:31:20.387Z"
   },
   {
    "duration": 1780,
    "start_time": "2022-02-17T15:31:20.397Z"
   },
   {
    "duration": 122189,
    "start_time": "2022-02-17T15:31:22.179Z"
   },
   {
    "duration": 601,
    "start_time": "2022-02-17T15:33:24.370Z"
   },
   {
    "duration": 1844,
    "start_time": "2022-02-17T15:33:24.973Z"
   },
   {
    "duration": 124194,
    "start_time": "2022-02-17T15:33:26.820Z"
   },
   {
    "duration": 562,
    "start_time": "2022-02-17T15:35:31.016Z"
   },
   {
    "duration": 5,
    "start_time": "2022-02-17T15:35:31.581Z"
   },
   {
    "duration": 786,
    "start_time": "2022-02-17T15:35:31.588Z"
   },
   {
    "duration": 925,
    "start_time": "2022-02-17T15:41:03.150Z"
   },
   {
    "duration": 464,
    "start_time": "2022-02-17T15:47:14.973Z"
   },
   {
    "duration": 9,
    "start_time": "2022-02-17T15:47:35.536Z"
   },
   {
    "duration": 16,
    "start_time": "2022-02-17T15:47:37.979Z"
   },
   {
    "duration": 1467,
    "start_time": "2022-02-17T15:51:24.657Z"
   },
   {
    "duration": 141,
    "start_time": "2022-02-17T15:51:26.127Z"
   },
   {
    "duration": 10,
    "start_time": "2022-02-17T15:51:26.275Z"
   },
   {
    "duration": 11,
    "start_time": "2022-02-17T15:51:26.287Z"
   },
   {
    "duration": 15,
    "start_time": "2022-02-17T15:51:26.300Z"
   },
   {
    "duration": 7,
    "start_time": "2022-02-17T15:51:26.363Z"
   },
   {
    "duration": 7,
    "start_time": "2022-02-17T15:51:26.376Z"
   },
   {
    "duration": 15,
    "start_time": "2022-02-17T15:51:26.387Z"
   },
   {
    "duration": 14,
    "start_time": "2022-02-17T15:51:26.404Z"
   },
   {
    "duration": 9,
    "start_time": "2022-02-17T15:51:26.461Z"
   },
   {
    "duration": 33,
    "start_time": "2022-02-17T15:51:26.472Z"
   },
   {
    "duration": 7,
    "start_time": "2022-02-17T15:51:26.507Z"
   },
   {
    "duration": 11,
    "start_time": "2022-02-17T15:51:26.516Z"
   },
   {
    "duration": 1853,
    "start_time": "2022-02-17T15:51:26.530Z"
   },
   {
    "duration": 135436,
    "start_time": "2022-02-17T15:51:28.385Z"
   },
   {
    "duration": 752,
    "start_time": "2022-02-17T15:53:43.824Z"
   },
   {
    "duration": 1950,
    "start_time": "2022-02-17T15:53:44.580Z"
   },
   {
    "duration": 125929,
    "start_time": "2022-02-17T15:53:46.532Z"
   },
   {
    "duration": 812,
    "start_time": "2022-02-17T15:55:52.464Z"
   },
   {
    "duration": 7,
    "start_time": "2022-02-17T15:55:53.279Z"
   },
   {
    "duration": 21,
    "start_time": "2022-02-17T15:55:53.289Z"
   },
   {
    "duration": 2481,
    "start_time": "2022-02-17T15:55:53.315Z"
   },
   {
    "duration": 183587,
    "start_time": "2022-02-17T15:55:55.799Z"
   },
   {
    "duration": 777,
    "start_time": "2022-02-17T15:58:59.389Z"
   },
   {
    "duration": 9,
    "start_time": "2022-02-17T15:59:00.169Z"
   },
   {
    "duration": 18,
    "start_time": "2022-02-17T15:59:00.181Z"
   },
   {
    "duration": 998,
    "start_time": "2022-02-17T15:59:00.202Z"
   },
   {
    "duration": 77173,
    "start_time": "2022-02-17T15:59:01.203Z"
   },
   {
    "duration": 404,
    "start_time": "2022-02-17T16:00:18.378Z"
   },
   {
    "duration": 1455,
    "start_time": "2022-02-17T16:00:58.761Z"
   },
   {
    "duration": 147,
    "start_time": "2022-02-17T16:01:00.219Z"
   },
   {
    "duration": 11,
    "start_time": "2022-02-17T16:01:00.370Z"
   },
   {
    "duration": 10,
    "start_time": "2022-02-17T16:01:00.384Z"
   },
   {
    "duration": 16,
    "start_time": "2022-02-17T16:01:00.396Z"
   },
   {
    "duration": 49,
    "start_time": "2022-02-17T16:01:00.415Z"
   },
   {
    "duration": 8,
    "start_time": "2022-02-17T16:01:00.467Z"
   },
   {
    "duration": 20,
    "start_time": "2022-02-17T16:01:00.480Z"
   },
   {
    "duration": 14,
    "start_time": "2022-02-17T16:01:00.503Z"
   },
   {
    "duration": 46,
    "start_time": "2022-02-17T16:01:00.520Z"
   },
   {
    "duration": 53,
    "start_time": "2022-02-17T16:01:00.569Z"
   },
   {
    "duration": 6,
    "start_time": "2022-02-17T16:01:00.625Z"
   },
   {
    "duration": 29,
    "start_time": "2022-02-17T16:01:00.633Z"
   },
   {
    "duration": 1935,
    "start_time": "2022-02-17T16:01:00.665Z"
   },
   {
    "duration": 142267,
    "start_time": "2022-02-17T16:01:02.603Z"
   },
   {
    "duration": 606,
    "start_time": "2022-02-17T16:03:24.873Z"
   },
   {
    "duration": 2638,
    "start_time": "2022-02-17T16:03:25.482Z"
   },
   {
    "duration": 140670,
    "start_time": "2022-02-17T16:03:28.123Z"
   },
   {
    "duration": 988,
    "start_time": "2022-02-17T16:05:48.797Z"
   },
   {
    "duration": 7,
    "start_time": "2022-02-17T16:05:49.788Z"
   },
   {
    "duration": 26,
    "start_time": "2022-02-17T16:05:49.799Z"
   },
   {
    "duration": 2920,
    "start_time": "2022-02-17T16:05:49.827Z"
   },
   {
    "duration": 210133,
    "start_time": "2022-02-17T16:05:52.756Z"
   },
   {
    "duration": 882,
    "start_time": "2022-02-17T16:09:22.892Z"
   },
   {
    "duration": 9,
    "start_time": "2022-02-17T16:09:23.777Z"
   },
   {
    "duration": 24,
    "start_time": "2022-02-17T16:09:23.789Z"
   },
   {
    "duration": 1237,
    "start_time": "2022-02-17T16:09:23.817Z"
   },
   {
    "duration": 80549,
    "start_time": "2022-02-17T16:09:25.057Z"
   },
   {
    "duration": 580,
    "start_time": "2022-02-17T16:10:45.609Z"
   },
   {
    "duration": 1466,
    "start_time": "2022-02-17T16:11:22.417Z"
   },
   {
    "duration": 148,
    "start_time": "2022-02-17T16:11:23.886Z"
   },
   {
    "duration": 30,
    "start_time": "2022-02-17T16:11:24.038Z"
   },
   {
    "duration": 11,
    "start_time": "2022-02-17T16:11:24.071Z"
   },
   {
    "duration": 16,
    "start_time": "2022-02-17T16:11:24.084Z"
   },
   {
    "duration": 61,
    "start_time": "2022-02-17T16:11:24.102Z"
   },
   {
    "duration": 8,
    "start_time": "2022-02-17T16:11:24.166Z"
   },
   {
    "duration": 24,
    "start_time": "2022-02-17T16:11:24.182Z"
   },
   {
    "duration": 49,
    "start_time": "2022-02-17T16:11:24.212Z"
   },
   {
    "duration": 11,
    "start_time": "2022-02-17T16:11:24.264Z"
   },
   {
    "duration": 33,
    "start_time": "2022-02-17T16:11:24.278Z"
   },
   {
    "duration": 6,
    "start_time": "2022-02-17T16:11:24.314Z"
   },
   {
    "duration": 40,
    "start_time": "2022-02-17T16:11:24.323Z"
   },
   {
    "duration": 2222,
    "start_time": "2022-02-17T16:11:24.366Z"
   },
   {
    "duration": 130275,
    "start_time": "2022-02-17T16:11:26.591Z"
   },
   {
    "duration": 711,
    "start_time": "2022-02-17T16:13:36.868Z"
   },
   {
    "duration": 1827,
    "start_time": "2022-02-17T16:13:37.582Z"
   },
   {
    "duration": 158067,
    "start_time": "2022-02-17T16:13:39.412Z"
   },
   {
    "duration": 786,
    "start_time": "2022-02-17T16:16:17.482Z"
   },
   {
    "duration": 6,
    "start_time": "2022-02-17T16:16:18.271Z"
   },
   {
    "duration": 19,
    "start_time": "2022-02-17T16:16:18.279Z"
   },
   {
    "duration": 2521,
    "start_time": "2022-02-17T16:16:18.301Z"
   },
   {
    "duration": 196364,
    "start_time": "2022-02-17T16:16:20.829Z"
   },
   {
    "duration": 884,
    "start_time": "2022-02-17T16:19:37.196Z"
   },
   {
    "duration": 6,
    "start_time": "2022-02-17T16:19:38.083Z"
   },
   {
    "duration": 24,
    "start_time": "2022-02-17T16:19:38.092Z"
   },
   {
    "duration": 896,
    "start_time": "2022-02-17T16:19:38.119Z"
   },
   {
    "duration": 86527,
    "start_time": "2022-02-17T16:19:39.018Z"
   },
   {
    "duration": 419,
    "start_time": "2022-02-17T16:21:05.547Z"
   },
   {
    "duration": 995,
    "start_time": "2022-02-17T16:49:59.809Z"
   },
   {
    "duration": 1388,
    "start_time": "2022-02-17T16:53:05.461Z"
   },
   {
    "duration": 147,
    "start_time": "2022-02-17T16:53:06.852Z"
   },
   {
    "duration": 10,
    "start_time": "2022-02-17T16:53:07.003Z"
   },
   {
    "duration": 9,
    "start_time": "2022-02-17T16:53:07.016Z"
   },
   {
    "duration": 43,
    "start_time": "2022-02-17T16:53:07.028Z"
   },
   {
    "duration": 6,
    "start_time": "2022-02-17T16:53:07.073Z"
   },
   {
    "duration": 7,
    "start_time": "2022-02-17T16:53:07.081Z"
   },
   {
    "duration": 13,
    "start_time": "2022-02-17T16:53:07.092Z"
   },
   {
    "duration": 14,
    "start_time": "2022-02-17T16:53:07.161Z"
   },
   {
    "duration": 13,
    "start_time": "2022-02-17T16:53:07.178Z"
   },
   {
    "duration": 69,
    "start_time": "2022-02-17T16:53:07.194Z"
   },
   {
    "duration": 9,
    "start_time": "2022-02-17T16:53:07.266Z"
   },
   {
    "duration": 11,
    "start_time": "2022-02-17T16:53:07.278Z"
   },
   {
    "duration": 1829,
    "start_time": "2022-02-17T16:53:07.292Z"
   },
   {
    "duration": 124402,
    "start_time": "2022-02-17T16:53:09.123Z"
   },
   {
    "duration": 644,
    "start_time": "2022-02-17T16:55:13.527Z"
   },
   {
    "duration": 1788,
    "start_time": "2022-02-17T16:55:14.174Z"
   },
   {
    "duration": 130229,
    "start_time": "2022-02-17T16:55:15.965Z"
   },
   {
    "duration": 778,
    "start_time": "2022-02-17T16:57:26.196Z"
   },
   {
    "duration": 7,
    "start_time": "2022-02-17T16:57:26.978Z"
   },
   {
    "duration": 25,
    "start_time": "2022-02-17T16:57:26.988Z"
   },
   {
    "duration": 2458,
    "start_time": "2022-02-17T16:57:27.016Z"
   },
   {
    "duration": 174903,
    "start_time": "2022-02-17T16:57:29.479Z"
   },
   {
    "duration": 904,
    "start_time": "2022-02-17T17:00:24.385Z"
   },
   {
    "duration": 8,
    "start_time": "2022-02-17T17:00:25.292Z"
   },
   {
    "duration": 22,
    "start_time": "2022-02-17T17:00:25.302Z"
   },
   {
    "duration": 914,
    "start_time": "2022-02-17T17:00:25.327Z"
   },
   {
    "duration": 72266,
    "start_time": "2022-02-17T17:00:26.244Z"
   },
   {
    "duration": 466,
    "start_time": "2022-02-17T17:01:38.514Z"
   },
   {
    "duration": 1087,
    "start_time": "2022-02-17T17:01:38.983Z"
   },
   {
    "duration": 299,
    "start_time": "2022-02-26T12:53:15.509Z"
   },
   {
    "duration": 249,
    "start_time": "2022-02-26T12:53:30.754Z"
   },
   {
    "duration": 1530,
    "start_time": "2022-02-26T12:53:39.691Z"
   },
   {
    "duration": 332,
    "start_time": "2022-02-26T12:53:45.881Z"
   },
   {
    "duration": 1947,
    "start_time": "2022-02-26T12:54:15.972Z"
   },
   {
    "duration": 1102,
    "start_time": "2022-02-26T12:55:00.555Z"
   }
  ],
  "kernelspec": {
   "display_name": "Python 3",
   "language": "python",
   "name": "python3"
  },
  "language_info": {
   "codemirror_mode": {
    "name": "ipython",
    "version": 3
   },
   "file_extension": ".py",
   "mimetype": "text/x-python",
   "name": "python",
   "nbconvert_exporter": "python",
   "pygments_lexer": "ipython3",
   "version": "3.8.5"
  },
  "toc": {
   "base_numbering": 1,
   "nav_menu": {},
   "number_sections": true,
   "sideBar": true,
   "skip_h1_title": true,
   "title_cell": "Содержание",
   "title_sidebar": "Contents",
   "toc_cell": true,
   "toc_position": {},
   "toc_section_display": true,
   "toc_window_display": true
  }
 },
 "nbformat": 4,
 "nbformat_minor": 2
}
